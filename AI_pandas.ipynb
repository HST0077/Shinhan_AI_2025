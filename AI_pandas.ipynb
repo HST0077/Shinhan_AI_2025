{
 "cells": [
  {
   "attachments": {
    "6999a745-861e-420e-a927-9c3fe7fa94f7.png": {
     "image/png": "[encoded data removed]"
    }
   },
   "cell_type": "markdown",
   "id": "cc6863ce-7a79-43e4-aaeb-1e5e176b3c73",
   "metadata": {},
   "source": [
    "![image.png](attachment:6999a745-861e-420e-a927-9c3fe7fa94f7.png)"
   ]
  },
  {
   "cell_type": "code",
   "execution_count": 4,
   "id": "219b5299-fa15-43d2-9f4f-355f91252e99",
   "metadata": {
    "tags": []
   },
   "outputs": [
    {
     "data": {
      "text/html": [
       "<div>\n",
       "<style scoped>\n",
       "    .dataframe tbody tr th:only-of-type {\n",
       "        vertical-align: middle;\n",
       "    }\n",
       "\n",
       "    .dataframe tbody tr th {\n",
       "        vertical-align: top;\n",
       "    }\n",
       "\n",
       "    .dataframe thead th {\n",
       "        text-align: right;\n",
       "    }\n",
       "</style>\n",
       "<table border=\"1\" class=\"dataframe\">\n",
       "  <thead>\n",
       "    <tr style=\"text-align: right;\">\n",
       "      <th></th>\n",
       "      <th>AAA</th>\n",
       "      <th>BBB</th>\n",
       "      <th>CCC</th>\n",
       "    </tr>\n",
       "  </thead>\n",
       "  <tbody>\n",
       "    <tr>\n",
       "      <th>0</th>\n",
       "      <td>4</td>\n",
       "      <td>10</td>\n",
       "      <td>100</td>\n",
       "    </tr>\n",
       "    <tr>\n",
       "      <th>1</th>\n",
       "      <td>5</td>\n",
       "      <td>20</td>\n",
       "      <td>50</td>\n",
       "    </tr>\n",
       "    <tr>\n",
       "      <th>2</th>\n",
       "      <td>6</td>\n",
       "      <td>30</td>\n",
       "      <td>-30</td>\n",
       "    </tr>\n",
       "    <tr>\n",
       "      <th>3</th>\n",
       "      <td>7</td>\n",
       "      <td>40</td>\n",
       "      <td>-50</td>\n",
       "    </tr>\n",
       "  </tbody>\n",
       "</table>\n",
       "</div>"
      ],
      "text/plain": [
       "   AAA  BBB  CCC\n",
       "0    4   10  100\n",
       "1    5   20   50\n",
       "2    6   30  -30\n",
       "3    7   40  -50"
      ]
     },
     "execution_count": 4,
     "metadata": {},
     "output_type": "execute_result"
    }
   ],
   "source": [
    "import pandas as pd # paddas를 pd라는 별칭으로 불러온다. \n",
    "df=pd.DataFrame(data={'AAA':[4,5,6,7],\n",
    "                     'BBB':[10,20,30,40],\n",
    "                     'CCC':[100,50,-30,-50]})\n",
    "df"
   ]
  },
  {
   "cell_type": "code",
   "execution_count": 22,
   "id": "a2487fdb-a167-4cdb-ba82-740499bf3ecf",
   "metadata": {
    "tags": []
   },
   "outputs": [
    {
     "data": {
      "text/html": [
       "<div>\n",
       "<style scoped>\n",
       "    .dataframe tbody tr th:only-of-type {\n",
       "        vertical-align: middle;\n",
       "    }\n",
       "\n",
       "    .dataframe tbody tr th {\n",
       "        vertical-align: top;\n",
       "    }\n",
       "\n",
       "    .dataframe thead th {\n",
       "        text-align: right;\n",
       "    }\n",
       "</style>\n",
       "<table border=\"1\" class=\"dataframe\">\n",
       "  <thead>\n",
       "    <tr style=\"text-align: right;\">\n",
       "      <th></th>\n",
       "      <th>AAA</th>\n",
       "      <th>BBB</th>\n",
       "      <th>CCC</th>\n",
       "    </tr>\n",
       "  </thead>\n",
       "  <tbody>\n",
       "    <tr>\n",
       "      <th>0</th>\n",
       "      <td>4</td>\n",
       "      <td>10</td>\n",
       "      <td>100</td>\n",
       "    </tr>\n",
       "    <tr>\n",
       "      <th>1</th>\n",
       "      <td>5</td>\n",
       "      <td>20</td>\n",
       "      <td>50</td>\n",
       "    </tr>\n",
       "    <tr>\n",
       "      <th>2</th>\n",
       "      <td>6</td>\n",
       "      <td>30</td>\n",
       "      <td>-30</td>\n",
       "    </tr>\n",
       "    <tr>\n",
       "      <th>3</th>\n",
       "      <td>7</td>\n",
       "      <td>40</td>\n",
       "      <td>-50</td>\n",
       "    </tr>\n",
       "  </tbody>\n",
       "</table>\n",
       "</div>"
      ],
      "text/plain": [
       "   AAA  BBB  CCC\n",
       "0    4   10  100\n",
       "1    5   20   50\n",
       "2    6   30  -30\n",
       "3    7   40  -50"
      ]
     },
     "execution_count": 22,
     "metadata": {},
     "output_type": "execute_result"
    }
   ],
   "source": [
    "# 데이터를 rows로 따로 입력하여 만든다. \n",
    "D=[[4,10,100],[5,20,50],[6,30,-30],[7,40,-50]]\n",
    "# columns 인자로 데이터 칼럼명을 따로 입력해도 됨\n",
    "df=pd.DataFrame(D,columns=['AAA','BBB','CCC']) #data=D라고 해도 상관없다. \n",
    "df"
   ]
  },
  {
   "cell_type": "code",
   "execution_count": 66,
   "id": "dd8a503a-7dc1-4633-9586-ef51d46db746",
   "metadata": {
    "tags": []
   },
   "outputs": [
    {
     "data": {
      "text/html": [
       "<div>\n",
       "<style scoped>\n",
       "    .dataframe tbody tr th:only-of-type {\n",
       "        vertical-align: middle;\n",
       "    }\n",
       "\n",
       "    .dataframe tbody tr th {\n",
       "        vertical-align: top;\n",
       "    }\n",
       "\n",
       "    .dataframe thead th {\n",
       "        text-align: right;\n",
       "    }\n",
       "</style>\n",
       "<table border=\"1\" class=\"dataframe\">\n",
       "  <thead>\n",
       "    <tr style=\"text-align: right;\">\n",
       "      <th></th>\n",
       "      <th>AAA</th>\n",
       "      <th>BBB</th>\n",
       "      <th>CCC</th>\n",
       "    </tr>\n",
       "  </thead>\n",
       "  <tbody>\n",
       "    <tr>\n",
       "      <th>0</th>\n",
       "      <td>4</td>\n",
       "      <td>10</td>\n",
       "      <td>100</td>\n",
       "    </tr>\n",
       "    <tr>\n",
       "      <th>1</th>\n",
       "      <td>5</td>\n",
       "      <td>20</td>\n",
       "      <td>50</td>\n",
       "    </tr>\n",
       "    <tr>\n",
       "      <th>2</th>\n",
       "      <td>6</td>\n",
       "      <td>30</td>\n",
       "      <td>-30</td>\n",
       "    </tr>\n",
       "    <tr>\n",
       "      <th>3</th>\n",
       "      <td>7</td>\n",
       "      <td>40</td>\n",
       "      <td>-50</td>\n",
       "    </tr>\n",
       "  </tbody>\n",
       "</table>\n",
       "</div>"
      ],
      "text/plain": [
       "   AAA  BBB  CCC\n",
       "0    4   10  100\n",
       "1    5   20   50\n",
       "2    6   30  -30\n",
       "3    7   40  -50"
      ]
     },
     "execution_count": 66,
     "metadata": {},
     "output_type": "execute_result"
    }
   ],
   "source": [
    "# 데이터를 rows로 따로 입력하여 만든다. \n",
    "D=[[4,10,100],[5,20,50],[6,30,-30],[7,40,-50]]\n",
    "df=pd.DataFrame(D) \n",
    "df.columns=['AAA','BBB','CCC']\n",
    "df"
   ]
  },
  {
   "cell_type": "code",
   "execution_count": 31,
   "id": "0fdd9e58-2cf7-4c16-89f2-ba183eb5161d",
   "metadata": {
    "tags": []
   },
   "outputs": [
    {
     "data": {
      "text/plain": [
       "'No'"
      ]
     },
     "execution_count": 31,
     "metadata": {},
     "output_type": "execute_result"
    }
   ],
   "source": [
    "# 새로운 함수 작성\n",
    "import numpy as np\n",
    "def df_hst(x):\n",
    "    if x<=5:\n",
    "        return 'Yes'\n",
    "    else:\n",
    "        return 'No'\n",
    "df_hst(10)"
   ]
  },
  {
   "cell_type": "code",
   "execution_count": 68,
   "id": "8d391f4e-af1d-4520-a229-29b63e471d2d",
   "metadata": {
    "tags": []
   },
   "outputs": [
    {
     "data": {
      "text/html": [
       "<div>\n",
       "<style scoped>\n",
       "    .dataframe tbody tr th:only-of-type {\n",
       "        vertical-align: middle;\n",
       "    }\n",
       "\n",
       "    .dataframe tbody tr th {\n",
       "        vertical-align: top;\n",
       "    }\n",
       "\n",
       "    .dataframe thead th {\n",
       "        text-align: right;\n",
       "    }\n",
       "</style>\n",
       "<table border=\"1\" class=\"dataframe\">\n",
       "  <thead>\n",
       "    <tr style=\"text-align: right;\">\n",
       "      <th></th>\n",
       "      <th>AAA</th>\n",
       "      <th>BBB</th>\n",
       "      <th>CCC</th>\n",
       "      <th>TF</th>\n",
       "    </tr>\n",
       "  </thead>\n",
       "  <tbody>\n",
       "    <tr>\n",
       "      <th>0</th>\n",
       "      <td>4</td>\n",
       "      <td>10</td>\n",
       "      <td>100</td>\n",
       "      <td>Yes</td>\n",
       "    </tr>\n",
       "    <tr>\n",
       "      <th>1</th>\n",
       "      <td>5</td>\n",
       "      <td>20</td>\n",
       "      <td>50</td>\n",
       "      <td>Yes</td>\n",
       "    </tr>\n",
       "    <tr>\n",
       "      <th>2</th>\n",
       "      <td>6</td>\n",
       "      <td>30</td>\n",
       "      <td>-30</td>\n",
       "      <td>No</td>\n",
       "    </tr>\n",
       "    <tr>\n",
       "      <th>3</th>\n",
       "      <td>7</td>\n",
       "      <td>40</td>\n",
       "      <td>-50</td>\n",
       "      <td>No</td>\n",
       "    </tr>\n",
       "  </tbody>\n",
       "</table>\n",
       "</div>"
      ],
      "text/plain": [
       "   AAA  BBB  CCC   TF\n",
       "0    4   10  100  Yes\n",
       "1    5   20   50  Yes\n",
       "2    6   30  -30   No\n",
       "3    7   40  -50   No"
      ]
     },
     "execution_count": 68,
     "metadata": {},
     "output_type": "execute_result"
    }
   ],
   "source": [
    "#'TF'라는 새로운 칼럼을 만든다. \n",
    "# apply(lambda x: 함수 정의 사용)\n",
    "df['TF']=df.AAA.apply(lambda x:df_hst(x))\n",
    "df"
   ]
  },
  {
   "cell_type": "code",
   "execution_count": 8,
   "id": "71b60435-22bb-4f29-8a33-e8525cbe876d",
   "metadata": {
    "tags": []
   },
   "outputs": [
    {
     "data": {
      "text/plain": [
       "4"
      ]
     },
     "execution_count": 8,
     "metadata": {},
     "output_type": "execute_result"
    }
   ],
   "source": [
    "f=lambda x: 2*x\n",
    "f(2)"
   ]
  },
  {
   "cell_type": "code",
   "execution_count": 69,
   "id": "c79995e0-b097-445d-8a77-d78e6ed87136",
   "metadata": {
    "tags": []
   },
   "outputs": [
    {
     "data": {
      "text/html": [
       "<div>\n",
       "<style scoped>\n",
       "    .dataframe tbody tr th:only-of-type {\n",
       "        vertical-align: middle;\n",
       "    }\n",
       "\n",
       "    .dataframe tbody tr th {\n",
       "        vertical-align: top;\n",
       "    }\n",
       "\n",
       "    .dataframe thead th {\n",
       "        text-align: right;\n",
       "    }\n",
       "</style>\n",
       "<table border=\"1\" class=\"dataframe\">\n",
       "  <thead>\n",
       "    <tr style=\"text-align: right;\">\n",
       "      <th></th>\n",
       "      <th>AAA</th>\n",
       "      <th>BBB</th>\n",
       "      <th>CCC</th>\n",
       "      <th>TF</th>\n",
       "      <th>TF1</th>\n",
       "    </tr>\n",
       "  </thead>\n",
       "  <tbody>\n",
       "    <tr>\n",
       "      <th>0</th>\n",
       "      <td>4</td>\n",
       "      <td>10</td>\n",
       "      <td>100</td>\n",
       "      <td>Yes</td>\n",
       "      <td>Yes</td>\n",
       "    </tr>\n",
       "    <tr>\n",
       "      <th>1</th>\n",
       "      <td>5</td>\n",
       "      <td>20</td>\n",
       "      <td>50</td>\n",
       "      <td>Yes</td>\n",
       "      <td>Yes</td>\n",
       "    </tr>\n",
       "    <tr>\n",
       "      <th>2</th>\n",
       "      <td>6</td>\n",
       "      <td>30</td>\n",
       "      <td>-30</td>\n",
       "      <td>No</td>\n",
       "      <td>No</td>\n",
       "    </tr>\n",
       "    <tr>\n",
       "      <th>3</th>\n",
       "      <td>7</td>\n",
       "      <td>40</td>\n",
       "      <td>-50</td>\n",
       "      <td>No</td>\n",
       "      <td>No</td>\n",
       "    </tr>\n",
       "  </tbody>\n",
       "</table>\n",
       "</div>"
      ],
      "text/plain": [
       "   AAA  BBB  CCC   TF  TF1\n",
       "0    4   10  100  Yes  Yes\n",
       "1    5   20   50  Yes  Yes\n",
       "2    6   30  -30   No   No\n",
       "3    7   40  -50   No   No"
      ]
     },
     "execution_count": 69,
     "metadata": {},
     "output_type": "execute_result"
    }
   ],
   "source": [
    "import numpy as np\n",
    "# TF1이라는 새로운 칼럼을 추가로 만든다. \n",
    "# where(조건, 참실행, 거짓실행)\n",
    "df['TF1']=np.where(df.AAA<=5,'Yes','No')\n",
    "df"
   ]
  },
  {
   "cell_type": "code",
   "execution_count": 76,
   "id": "8e7821da-b465-4d43-9e96-551278253f8d",
   "metadata": {
    "tags": []
   },
   "outputs": [
    {
     "data": {
      "text/plain": [
       "5"
      ]
     },
     "execution_count": 76,
     "metadata": {},
     "output_type": "execute_result"
    }
   ],
   "source": [
    "df.loc[1,'AAA']"
   ]
  },
  {
   "cell_type": "code",
   "execution_count": 71,
   "id": "7d7de4ce-e531-4032-9fda-e113a80c309f",
   "metadata": {
    "tags": []
   },
   "outputs": [
    {
     "data": {
      "text/plain": [
       "0     True\n",
       "1     True\n",
       "2    False\n",
       "3    False\n",
       "Name: AAA, dtype: bool"
      ]
     },
     "execution_count": 71,
     "metadata": {},
     "output_type": "execute_result"
    }
   ],
   "source": [
    "# loc[] 라는 메서드를 사용하여 \n",
    "TF=df.AAA<=5 # 조건 생성\n",
    "TF"
   ]
  },
  {
   "cell_type": "code",
   "execution_count": 72,
   "id": "af506de4-0d19-4461-81b0-759bc1ed1881",
   "metadata": {
    "tags": []
   },
   "outputs": [
    {
     "data": {
      "text/html": [
       "<div>\n",
       "<style scoped>\n",
       "    .dataframe tbody tr th:only-of-type {\n",
       "        vertical-align: middle;\n",
       "    }\n",
       "\n",
       "    .dataframe tbody tr th {\n",
       "        vertical-align: top;\n",
       "    }\n",
       "\n",
       "    .dataframe thead th {\n",
       "        text-align: right;\n",
       "    }\n",
       "</style>\n",
       "<table border=\"1\" class=\"dataframe\">\n",
       "  <thead>\n",
       "    <tr style=\"text-align: right;\">\n",
       "      <th></th>\n",
       "      <th>AAA</th>\n",
       "      <th>BBB</th>\n",
       "      <th>CCC</th>\n",
       "      <th>TF</th>\n",
       "      <th>TF1</th>\n",
       "    </tr>\n",
       "  </thead>\n",
       "  <tbody>\n",
       "    <tr>\n",
       "      <th>0</th>\n",
       "      <td>4</td>\n",
       "      <td>10</td>\n",
       "      <td>100</td>\n",
       "      <td>Yes</td>\n",
       "      <td>Yes</td>\n",
       "    </tr>\n",
       "    <tr>\n",
       "      <th>1</th>\n",
       "      <td>5</td>\n",
       "      <td>20</td>\n",
       "      <td>50</td>\n",
       "      <td>Yes</td>\n",
       "      <td>Yes</td>\n",
       "    </tr>\n",
       "  </tbody>\n",
       "</table>\n",
       "</div>"
      ],
      "text/plain": [
       "   AAA  BBB  CCC   TF  TF1\n",
       "0    4   10  100  Yes  Yes\n",
       "1    5   20   50  Yes  Yes"
      ]
     },
     "execution_count": 72,
     "metadata": {},
     "output_type": "execute_result"
    }
   ],
   "source": [
    "# 조건에 만든 행만 추출\n",
    "df.loc[TF]"
   ]
  },
  {
   "cell_type": "code",
   "execution_count": 73,
   "id": "c406aca9-11fb-4968-b874-4d2bbe4c04a3",
   "metadata": {
    "tags": []
   },
   "outputs": [
    {
     "data": {
      "text/html": [
       "<div>\n",
       "<style scoped>\n",
       "    .dataframe tbody tr th:only-of-type {\n",
       "        vertical-align: middle;\n",
       "    }\n",
       "\n",
       "    .dataframe tbody tr th {\n",
       "        vertical-align: top;\n",
       "    }\n",
       "\n",
       "    .dataframe thead th {\n",
       "        text-align: right;\n",
       "    }\n",
       "</style>\n",
       "<table border=\"1\" class=\"dataframe\">\n",
       "  <thead>\n",
       "    <tr style=\"text-align: right;\">\n",
       "      <th></th>\n",
       "      <th>AAA</th>\n",
       "      <th>BBB</th>\n",
       "      <th>CCC</th>\n",
       "      <th>TF</th>\n",
       "      <th>TF1</th>\n",
       "    </tr>\n",
       "  </thead>\n",
       "  <tbody>\n",
       "    <tr>\n",
       "      <th>2</th>\n",
       "      <td>6</td>\n",
       "      <td>30</td>\n",
       "      <td>-30</td>\n",
       "      <td>No</td>\n",
       "      <td>No</td>\n",
       "    </tr>\n",
       "    <tr>\n",
       "      <th>3</th>\n",
       "      <td>7</td>\n",
       "      <td>40</td>\n",
       "      <td>-50</td>\n",
       "      <td>No</td>\n",
       "      <td>No</td>\n",
       "    </tr>\n",
       "  </tbody>\n",
       "</table>\n",
       "</div>"
      ],
      "text/plain": [
       "   AAA  BBB  CCC  TF TF1\n",
       "2    6   30  -30  No  No\n",
       "3    7   40  -50  No  No"
      ]
     },
     "execution_count": 73,
     "metadata": {},
     "output_type": "execute_result"
    }
   ],
   "source": [
    "# 조건에 맞지 않는 행만 추출\n",
    "df.loc[~TF]"
   ]
  },
  {
   "cell_type": "code",
   "execution_count": 74,
   "id": "1672235f-24d4-4b71-b785-b8ff7b6da118",
   "metadata": {
    "tags": []
   },
   "outputs": [
    {
     "data": {
      "text/plain": [
       "4"
      ]
     },
     "execution_count": 74,
     "metadata": {},
     "output_type": "execute_result"
    }
   ],
   "source": [
    "# iloc는 인덱싱을 하여 각 자료의 위치를 찾을 때 유용하다. \n",
    "df.iloc[0,0] # 첫번째 행, 첫번째 열을 의미"
   ]
  },
  {
   "cell_type": "code",
   "execution_count": 75,
   "id": "2e9644a3-de19-48fc-9f7e-f3537276b61a",
   "metadata": {
    "tags": []
   },
   "outputs": [
    {
     "data": {
      "text/plain": [
       "AAA      5\n",
       "BBB     20\n",
       "CCC     50\n",
       "TF     Yes\n",
       "TF1    Yes\n",
       "Name: 1, dtype: object"
      ]
     },
     "execution_count": 75,
     "metadata": {},
     "output_type": "execute_result"
    }
   ],
   "source": [
    "df.iloc[1,:] # 두번째 행을 추출한다. "
   ]
  },
  {
   "cell_type": "markdown",
   "id": "fd6f16de-a827-4271-b953-b49921d6c870",
   "metadata": {
    "tags": []
   },
   "source": [
    "# ‘성별’ 칼럼에는 ‘남자’,’여자’가 랜덤하게 1000개, ‘생사여부’ 칼럼에는 0(dead),1(alive) 숫자가 랜덤하게 1000개가 만들어지도록 하여 이를 데이터프레임으로 만들어라. 성별에 따른 생사여부의 숫자를 세어서 표시해 보아라. "
   ]
  },
  {
   "cell_type": "code",
   "execution_count": 40,
   "id": "bab806f8-0226-45ba-9c7d-1aaeeaca3c30",
   "metadata": {
    "tags": []
   },
   "outputs": [
    {
     "name": "stdout",
     "output_type": "stream",
     "text": [
      "<class 'pandas.core.frame.DataFrame'>\n",
      "RangeIndex: 1000 entries, 0 to 999\n",
      "Data columns (total 2 columns):\n",
      " #   Column  Non-Null Count  Dtype \n",
      "---  ------  --------------  ----- \n",
      " 0   성별      1000 non-null   object\n",
      " 1   생사여부    1000 non-null   int32 \n",
      "dtypes: int32(1), object(1)\n",
      "memory usage: 11.8+ KB\n"
     ]
    }
   ],
   "source": [
    "# 중복해서 랜덤추출할 때 사용하는 패키지 사용\n",
    "import random as rd # rd라는 별명으로 불러옴\n",
    "import numpy as np\n",
    "Sex=['남자','여자']\n",
    "# choice(N,k=1000)은 N에서 중복을 허락하여 1000개를 추출함\n",
    "D1=rd.choices(Sex,k=1000)\n",
    "# 0,1중 1000개의 난수 생성\n",
    "D2=np.random.randint(2,size=1000)\n",
    "# 데이터프레임으로 만들기\n",
    "df=pd.DataFrame(data={'성별':D1,'생사여부':D2})\n",
    "df.info()"
   ]
  },
  {
   "cell_type": "code",
   "execution_count": 42,
   "id": "f6773a61-d4ee-4775-b535-f6a49f503fb4",
   "metadata": {
    "tags": []
   },
   "outputs": [
    {
     "data": {
      "text/html": [
       "<div>\n",
       "<style scoped>\n",
       "    .dataframe tbody tr th:only-of-type {\n",
       "        vertical-align: middle;\n",
       "    }\n",
       "\n",
       "    .dataframe tbody tr th {\n",
       "        vertical-align: top;\n",
       "    }\n",
       "\n",
       "    .dataframe thead th {\n",
       "        text-align: right;\n",
       "    }\n",
       "</style>\n",
       "<table border=\"1\" class=\"dataframe\">\n",
       "  <thead>\n",
       "    <tr style=\"text-align: right;\">\n",
       "      <th></th>\n",
       "      <th>생사여부</th>\n",
       "    </tr>\n",
       "    <tr>\n",
       "      <th>성별</th>\n",
       "      <th></th>\n",
       "    </tr>\n",
       "  </thead>\n",
       "  <tbody>\n",
       "    <tr>\n",
       "      <th>남자</th>\n",
       "      <td>262</td>\n",
       "    </tr>\n",
       "    <tr>\n",
       "      <th>여자</th>\n",
       "      <td>224</td>\n",
       "    </tr>\n",
       "  </tbody>\n",
       "</table>\n",
       "</div>"
      ],
      "text/plain": [
       "    생사여부\n",
       "성별      \n",
       "남자   262\n",
       "여자   224"
      ]
     },
     "execution_count": 42,
     "metadata": {},
     "output_type": "execute_result"
    }
   ],
   "source": [
    "# pivot_table()이용하기\n",
    "# index에 따른 values의 값들을 모아서 aggfunc에 설정된 함수대로 처리해준다. \n",
    "# aggfunc를 따로 지정하지 않으면 디폴트 값으로 평균값으로 출력시킨다. \n",
    "df.pivot_table(values='생사여부',index='성별',aggfunc=np.sum)"
   ]
  },
  {
   "cell_type": "code",
   "execution_count": 43,
   "id": "46379c48-7253-4127-9a6e-8f95820e1380",
   "metadata": {
    "tags": []
   },
   "outputs": [
    {
     "data": {
      "text/plain": [
       "성별  생사여부\n",
       "남자  0       246\n",
       "    1       262\n",
       "여자  0       268\n",
       "    1       224\n",
       "Name: 생사여부, dtype: int64"
      ]
     },
     "execution_count": 43,
     "metadata": {},
     "output_type": "execute_result"
    }
   ],
   "source": [
    "# groupby 이용하기\n",
    "# groupby([A,B,C])[D].f: A,B,C에 대해 D를 f에 의해 정렬하라. \n",
    "df.groupby(['성별','생사여부'])['생사여부'].count()"
   ]
  },
  {
   "cell_type": "markdown",
   "id": "76f79b8e-3df5-4ab8-a6ad-f227c1d8044b",
   "metadata": {},
   "source": [
    "# ‘그룹’이라는 칼럼을 만들어 A,B,C 세가지 중 하나를 무작위로 1000개 만들고, ‘실험1’ 칼럼에는 10부터 50까지의 자연수의 난수 1000개, ‘실험2’ 칼럼에는 100부터 300까지의 자연수 난수 1000개를 생성하자. A,B,C에 따른 실험1,실험2의 최대, 최소값, 실험2의 기본적 통계량을 추출해 보자. "
   ]
  },
  {
   "cell_type": "code",
   "execution_count": 46,
   "id": "11c2cc85-6ab8-406a-a551-76b42fc38c88",
   "metadata": {
    "tags": []
   },
   "outputs": [
    {
     "name": "stdout",
     "output_type": "stream",
     "text": [
      "<class 'pandas.core.frame.DataFrame'>\n",
      "RangeIndex: 1000 entries, 0 to 999\n",
      "Data columns (total 3 columns):\n",
      " #   Column  Non-Null Count  Dtype \n",
      "---  ------  --------------  ----- \n",
      " 0   그룹      1000 non-null   object\n",
      " 1   실험1     1000 non-null   int32 \n",
      " 2   실험2     1000 non-null   int32 \n",
      "dtypes: int32(2), object(1)\n",
      "memory usage: 15.8+ KB\n"
     ]
    }
   ],
   "source": [
    "import random as rd # rd라는 별명으로 불러옴\n",
    "import numpy as np\n",
    "Catgry=['A','B','C']\n",
    "# choice(N,k=1000)은 N에서 중복을 허락하여 1000개를 추출함\n",
    "D1=rd.choices(Catgry,k=1000)\n",
    "\n",
    "# 10~50까지 1000개의 난수 생성\n",
    "D2=np.random.randint(10,51,size=1000)\n",
    "\n",
    "# 100~300까지 1000개의 난수 생성\n",
    "D3=np.random.randint(100,301,size=1000)\n",
    "\n",
    "# 데이터프레임으로 만들기\n",
    "df=pd.DataFrame(data={'그룹':D1,'실험1':D2,'실험2':D3})\n",
    "df.info()"
   ]
  },
  {
   "cell_type": "code",
   "execution_count": 47,
   "id": "ebd77c57-67a3-4259-bd54-4ada65eebc7f",
   "metadata": {
    "tags": []
   },
   "outputs": [
    {
     "data": {
      "text/html": [
       "<div>\n",
       "<style scoped>\n",
       "    .dataframe tbody tr th:only-of-type {\n",
       "        vertical-align: middle;\n",
       "    }\n",
       "\n",
       "    .dataframe tbody tr th {\n",
       "        vertical-align: top;\n",
       "    }\n",
       "\n",
       "    .dataframe thead th {\n",
       "        text-align: right;\n",
       "    }\n",
       "</style>\n",
       "<table border=\"1\" class=\"dataframe\">\n",
       "  <thead>\n",
       "    <tr style=\"text-align: right;\">\n",
       "      <th></th>\n",
       "      <th>실험1</th>\n",
       "      <th>실험2</th>\n",
       "    </tr>\n",
       "    <tr>\n",
       "      <th>그룹</th>\n",
       "      <th></th>\n",
       "      <th></th>\n",
       "    </tr>\n",
       "  </thead>\n",
       "  <tbody>\n",
       "    <tr>\n",
       "      <th>A</th>\n",
       "      <td>10</td>\n",
       "      <td>100</td>\n",
       "    </tr>\n",
       "    <tr>\n",
       "      <th>B</th>\n",
       "      <td>10</td>\n",
       "      <td>100</td>\n",
       "    </tr>\n",
       "    <tr>\n",
       "      <th>C</th>\n",
       "      <td>10</td>\n",
       "      <td>101</td>\n",
       "    </tr>\n",
       "  </tbody>\n",
       "</table>\n",
       "</div>"
      ],
      "text/plain": [
       "    실험1  실험2\n",
       "그룹          \n",
       "A    10  100\n",
       "B    10  100\n",
       "C    10  101"
      ]
     },
     "execution_count": 47,
     "metadata": {},
     "output_type": "execute_result"
    }
   ],
   "source": [
    "# '그룹'에 따른 최대값,최소값 구하기\n",
    "grouped=df.groupby('그룹') # '그룹' 칼럼을 중심으로 \n",
    "grouped.min() #최소값 구하기"
   ]
  },
  {
   "cell_type": "code",
   "execution_count": 48,
   "id": "358bf28a-e6ca-4f87-a1ae-20cbb0f0f594",
   "metadata": {
    "tags": []
   },
   "outputs": [
    {
     "data": {
      "text/html": [
       "<div>\n",
       "<style scoped>\n",
       "    .dataframe tbody tr th:only-of-type {\n",
       "        vertical-align: middle;\n",
       "    }\n",
       "\n",
       "    .dataframe tbody tr th {\n",
       "        vertical-align: top;\n",
       "    }\n",
       "\n",
       "    .dataframe thead th {\n",
       "        text-align: right;\n",
       "    }\n",
       "</style>\n",
       "<table border=\"1\" class=\"dataframe\">\n",
       "  <thead>\n",
       "    <tr style=\"text-align: right;\">\n",
       "      <th></th>\n",
       "      <th>실험1</th>\n",
       "      <th>실험2</th>\n",
       "    </tr>\n",
       "    <tr>\n",
       "      <th>그룹</th>\n",
       "      <th></th>\n",
       "      <th></th>\n",
       "    </tr>\n",
       "  </thead>\n",
       "  <tbody>\n",
       "    <tr>\n",
       "      <th>A</th>\n",
       "      <td>50</td>\n",
       "      <td>299</td>\n",
       "    </tr>\n",
       "    <tr>\n",
       "      <th>B</th>\n",
       "      <td>50</td>\n",
       "      <td>299</td>\n",
       "    </tr>\n",
       "    <tr>\n",
       "      <th>C</th>\n",
       "      <td>50</td>\n",
       "      <td>300</td>\n",
       "    </tr>\n",
       "  </tbody>\n",
       "</table>\n",
       "</div>"
      ],
      "text/plain": [
       "    실험1  실험2\n",
       "그룹          \n",
       "A    50  299\n",
       "B    50  299\n",
       "C    50  300"
      ]
     },
     "execution_count": 48,
     "metadata": {},
     "output_type": "execute_result"
    }
   ],
   "source": [
    "grouped.max() #최대값 구하기"
   ]
  },
  {
   "cell_type": "code",
   "execution_count": 49,
   "id": "5a3233df-1de4-4fda-8833-db4bbea1f056",
   "metadata": {
    "tags": []
   },
   "outputs": [
    {
     "data": {
      "text/html": [
       "<div>\n",
       "<style scoped>\n",
       "    .dataframe tbody tr th:only-of-type {\n",
       "        vertical-align: middle;\n",
       "    }\n",
       "\n",
       "    .dataframe tbody tr th {\n",
       "        vertical-align: top;\n",
       "    }\n",
       "\n",
       "    .dataframe thead th {\n",
       "        text-align: right;\n",
       "    }\n",
       "</style>\n",
       "<table border=\"1\" class=\"dataframe\">\n",
       "  <thead>\n",
       "    <tr style=\"text-align: right;\">\n",
       "      <th></th>\n",
       "      <th>count</th>\n",
       "      <th>mean</th>\n",
       "      <th>std</th>\n",
       "      <th>min</th>\n",
       "      <th>25%</th>\n",
       "      <th>50%</th>\n",
       "      <th>75%</th>\n",
       "      <th>max</th>\n",
       "    </tr>\n",
       "    <tr>\n",
       "      <th>그룹</th>\n",
       "      <th></th>\n",
       "      <th></th>\n",
       "      <th></th>\n",
       "      <th></th>\n",
       "      <th></th>\n",
       "      <th></th>\n",
       "      <th></th>\n",
       "      <th></th>\n",
       "    </tr>\n",
       "  </thead>\n",
       "  <tbody>\n",
       "    <tr>\n",
       "      <th>A</th>\n",
       "      <td>322.0</td>\n",
       "      <td>29.813665</td>\n",
       "      <td>11.452845</td>\n",
       "      <td>10.0</td>\n",
       "      <td>20.0</td>\n",
       "      <td>30.0</td>\n",
       "      <td>40.0</td>\n",
       "      <td>50.0</td>\n",
       "    </tr>\n",
       "    <tr>\n",
       "      <th>B</th>\n",
       "      <td>338.0</td>\n",
       "      <td>29.286982</td>\n",
       "      <td>11.986041</td>\n",
       "      <td>10.0</td>\n",
       "      <td>19.0</td>\n",
       "      <td>29.0</td>\n",
       "      <td>40.0</td>\n",
       "      <td>50.0</td>\n",
       "    </tr>\n",
       "    <tr>\n",
       "      <th>C</th>\n",
       "      <td>340.0</td>\n",
       "      <td>29.673529</td>\n",
       "      <td>12.445369</td>\n",
       "      <td>10.0</td>\n",
       "      <td>18.0</td>\n",
       "      <td>28.5</td>\n",
       "      <td>40.0</td>\n",
       "      <td>50.0</td>\n",
       "    </tr>\n",
       "  </tbody>\n",
       "</table>\n",
       "</div>"
      ],
      "text/plain": [
       "    count       mean        std   min   25%   50%   75%   max\n",
       "그룹                                                           \n",
       "A   322.0  29.813665  11.452845  10.0  20.0  30.0  40.0  50.0\n",
       "B   338.0  29.286982  11.986041  10.0  19.0  29.0  40.0  50.0\n",
       "C   340.0  29.673529  12.445369  10.0  18.0  28.5  40.0  50.0"
      ]
     },
     "execution_count": 49,
     "metadata": {},
     "output_type": "execute_result"
    }
   ],
   "source": [
    "# 실험1에 대해서 A,B,C에 대해 기본통계량 추출하기\n",
    "grouped.describe()['실험1']"
   ]
  },
  {
   "cell_type": "code",
   "execution_count": 50,
   "id": "0b0a771e-8d3e-4703-b257-bc57051cabd0",
   "metadata": {
    "tags": []
   },
   "outputs": [
    {
     "data": {
      "text/html": [
       "<div>\n",
       "<style scoped>\n",
       "    .dataframe tbody tr th:only-of-type {\n",
       "        vertical-align: middle;\n",
       "    }\n",
       "\n",
       "    .dataframe tbody tr th {\n",
       "        vertical-align: top;\n",
       "    }\n",
       "\n",
       "    .dataframe thead th {\n",
       "        text-align: right;\n",
       "    }\n",
       "</style>\n",
       "<table border=\"1\" class=\"dataframe\">\n",
       "  <thead>\n",
       "    <tr style=\"text-align: right;\">\n",
       "      <th></th>\n",
       "      <th>count</th>\n",
       "      <th>mean</th>\n",
       "      <th>std</th>\n",
       "      <th>min</th>\n",
       "      <th>25%</th>\n",
       "      <th>50%</th>\n",
       "      <th>75%</th>\n",
       "      <th>max</th>\n",
       "    </tr>\n",
       "    <tr>\n",
       "      <th>그룹</th>\n",
       "      <th></th>\n",
       "      <th></th>\n",
       "      <th></th>\n",
       "      <th></th>\n",
       "      <th></th>\n",
       "      <th></th>\n",
       "      <th></th>\n",
       "      <th></th>\n",
       "    </tr>\n",
       "  </thead>\n",
       "  <tbody>\n",
       "    <tr>\n",
       "      <th>A</th>\n",
       "      <td>322.0</td>\n",
       "      <td>200.645963</td>\n",
       "      <td>58.554329</td>\n",
       "      <td>100.0</td>\n",
       "      <td>150.0</td>\n",
       "      <td>204.0</td>\n",
       "      <td>251.75</td>\n",
       "      <td>299.0</td>\n",
       "    </tr>\n",
       "    <tr>\n",
       "      <th>B</th>\n",
       "      <td>338.0</td>\n",
       "      <td>198.547337</td>\n",
       "      <td>57.119993</td>\n",
       "      <td>100.0</td>\n",
       "      <td>148.0</td>\n",
       "      <td>198.0</td>\n",
       "      <td>245.00</td>\n",
       "      <td>299.0</td>\n",
       "    </tr>\n",
       "    <tr>\n",
       "      <th>C</th>\n",
       "      <td>340.0</td>\n",
       "      <td>198.576471</td>\n",
       "      <td>59.772257</td>\n",
       "      <td>101.0</td>\n",
       "      <td>142.0</td>\n",
       "      <td>199.5</td>\n",
       "      <td>250.25</td>\n",
       "      <td>300.0</td>\n",
       "    </tr>\n",
       "  </tbody>\n",
       "</table>\n",
       "</div>"
      ],
      "text/plain": [
       "    count        mean        std    min    25%    50%     75%    max\n",
       "그룹                                                                  \n",
       "A   322.0  200.645963  58.554329  100.0  150.0  204.0  251.75  299.0\n",
       "B   338.0  198.547337  57.119993  100.0  148.0  198.0  245.00  299.0\n",
       "C   340.0  198.576471  59.772257  101.0  142.0  199.5  250.25  300.0"
      ]
     },
     "execution_count": 50,
     "metadata": {},
     "output_type": "execute_result"
    }
   ],
   "source": [
    "# 실험2에 대해서 A,B,C에 대해 기본통계량 추출하기\n",
    "grouped.describe()['실험2']"
   ]
  },
  {
   "cell_type": "code",
   "execution_count": 52,
   "id": "de11416e-4e60-4db9-8cd8-72bc83cea6ce",
   "metadata": {
    "tags": []
   },
   "outputs": [
    {
     "data": {
      "text/html": [
       "<div>\n",
       "<style scoped>\n",
       "    .dataframe tbody tr th:only-of-type {\n",
       "        vertical-align: middle;\n",
       "    }\n",
       "\n",
       "    .dataframe tbody tr th {\n",
       "        vertical-align: top;\n",
       "    }\n",
       "\n",
       "    .dataframe thead tr th {\n",
       "        text-align: left;\n",
       "    }\n",
       "\n",
       "    .dataframe thead tr:last-of-type th {\n",
       "        text-align: right;\n",
       "    }\n",
       "</style>\n",
       "<table border=\"1\" class=\"dataframe\">\n",
       "  <thead>\n",
       "    <tr>\n",
       "      <th></th>\n",
       "      <th colspan=\"2\" halign=\"left\">min</th>\n",
       "      <th colspan=\"2\" halign=\"left\">max</th>\n",
       "      <th colspan=\"2\" halign=\"left\">count</th>\n",
       "      <th colspan=\"2\" halign=\"left\">mean</th>\n",
       "    </tr>\n",
       "    <tr>\n",
       "      <th></th>\n",
       "      <th>실험1</th>\n",
       "      <th>실험2</th>\n",
       "      <th>실험1</th>\n",
       "      <th>실험2</th>\n",
       "      <th>실험1</th>\n",
       "      <th>실험2</th>\n",
       "      <th>실험1</th>\n",
       "      <th>실험2</th>\n",
       "    </tr>\n",
       "    <tr>\n",
       "      <th>그룹</th>\n",
       "      <th></th>\n",
       "      <th></th>\n",
       "      <th></th>\n",
       "      <th></th>\n",
       "      <th></th>\n",
       "      <th></th>\n",
       "      <th></th>\n",
       "      <th></th>\n",
       "    </tr>\n",
       "  </thead>\n",
       "  <tbody>\n",
       "    <tr>\n",
       "      <th>A</th>\n",
       "      <td>10</td>\n",
       "      <td>100</td>\n",
       "      <td>50</td>\n",
       "      <td>299</td>\n",
       "      <td>322</td>\n",
       "      <td>322</td>\n",
       "      <td>29.813665</td>\n",
       "      <td>200.645963</td>\n",
       "    </tr>\n",
       "    <tr>\n",
       "      <th>B</th>\n",
       "      <td>10</td>\n",
       "      <td>100</td>\n",
       "      <td>50</td>\n",
       "      <td>299</td>\n",
       "      <td>338</td>\n",
       "      <td>338</td>\n",
       "      <td>29.286982</td>\n",
       "      <td>198.547337</td>\n",
       "    </tr>\n",
       "    <tr>\n",
       "      <th>C</th>\n",
       "      <td>10</td>\n",
       "      <td>101</td>\n",
       "      <td>50</td>\n",
       "      <td>300</td>\n",
       "      <td>340</td>\n",
       "      <td>340</td>\n",
       "      <td>29.673529</td>\n",
       "      <td>198.576471</td>\n",
       "    </tr>\n",
       "  </tbody>\n",
       "</table>\n",
       "</div>"
      ],
      "text/plain": [
       "   min      max      count            mean            \n",
       "   실험1  실험2 실험1  실험2   실험1  실험2        실험1         실험2\n",
       "그룹                                                    \n",
       "A   10  100  50  299   322  322  29.813665  200.645963\n",
       "B   10  100  50  299   338  338  29.286982  198.547337\n",
       "C   10  101  50  300   340  340  29.673529  198.576471"
      ]
     },
     "execution_count": 52,
     "metadata": {},
     "output_type": "execute_result"
    }
   ],
   "source": [
    "# pivot_table이용하기\n",
    "df.pivot_table(values=['실험1','실험2'],index='그룹',aggfunc=['min','max','count','mean'])"
   ]
  },
  {
   "cell_type": "markdown",
   "id": "297356ae-7629-4512-b3ea-773296efd024",
   "metadata": {},
   "source": [
    "# 아래와 같은 자료를 작성하여 DataFrame을 만들고, 짝수칼럼(c2,c4,c6,c8,c10)만의 부분합을 구하여라. 유사하게 홀수행들(r1,r3,r5,r7,r9)의 부분합을 구하여라. "
   ]
  },
  {
   "attachments": {
    "be9b7492-e094-4534-9c3f-7caf770ef1c2.png": {
     "image/png": "[encoded data removed]"
    }
   },
   "cell_type": "markdown",
   "id": "e616cb99-df45-4a9b-813c-221a370e2d3c",
   "metadata": {},
   "source": [
    "![image.png](attachment:be9b7492-e094-4534-9c3f-7caf770ef1c2.png)"
   ]
  },
  {
   "cell_type": "code",
   "execution_count": 54,
   "id": "af96d3fc-5f3e-42cb-8acd-11356d784a4a",
   "metadata": {
    "tags": []
   },
   "outputs": [
    {
     "data": {
      "text/html": [
       "<div>\n",
       "<style scoped>\n",
       "    .dataframe tbody tr th:only-of-type {\n",
       "        vertical-align: middle;\n",
       "    }\n",
       "\n",
       "    .dataframe tbody tr th {\n",
       "        vertical-align: top;\n",
       "    }\n",
       "\n",
       "    .dataframe thead th {\n",
       "        text-align: right;\n",
       "    }\n",
       "</style>\n",
       "<table border=\"1\" class=\"dataframe\">\n",
       "  <thead>\n",
       "    <tr style=\"text-align: right;\">\n",
       "      <th></th>\n",
       "      <th>c1</th>\n",
       "      <th>c2</th>\n",
       "      <th>c3</th>\n",
       "      <th>c4</th>\n",
       "      <th>c5</th>\n",
       "      <th>c6</th>\n",
       "      <th>c7</th>\n",
       "      <th>c8</th>\n",
       "      <th>c9</th>\n",
       "      <th>c10</th>\n",
       "    </tr>\n",
       "  </thead>\n",
       "  <tbody>\n",
       "    <tr>\n",
       "      <th>r1</th>\n",
       "      <td>0</td>\n",
       "      <td>1</td>\n",
       "      <td>2</td>\n",
       "      <td>3</td>\n",
       "      <td>4</td>\n",
       "      <td>5</td>\n",
       "      <td>6</td>\n",
       "      <td>7</td>\n",
       "      <td>8</td>\n",
       "      <td>9</td>\n",
       "    </tr>\n",
       "    <tr>\n",
       "      <th>r2</th>\n",
       "      <td>10</td>\n",
       "      <td>11</td>\n",
       "      <td>12</td>\n",
       "      <td>13</td>\n",
       "      <td>14</td>\n",
       "      <td>15</td>\n",
       "      <td>16</td>\n",
       "      <td>17</td>\n",
       "      <td>18</td>\n",
       "      <td>19</td>\n",
       "    </tr>\n",
       "    <tr>\n",
       "      <th>r3</th>\n",
       "      <td>20</td>\n",
       "      <td>21</td>\n",
       "      <td>22</td>\n",
       "      <td>23</td>\n",
       "      <td>24</td>\n",
       "      <td>25</td>\n",
       "      <td>26</td>\n",
       "      <td>27</td>\n",
       "      <td>28</td>\n",
       "      <td>29</td>\n",
       "    </tr>\n",
       "    <tr>\n",
       "      <th>r4</th>\n",
       "      <td>30</td>\n",
       "      <td>31</td>\n",
       "      <td>32</td>\n",
       "      <td>33</td>\n",
       "      <td>34</td>\n",
       "      <td>35</td>\n",
       "      <td>36</td>\n",
       "      <td>37</td>\n",
       "      <td>38</td>\n",
       "      <td>39</td>\n",
       "    </tr>\n",
       "    <tr>\n",
       "      <th>r5</th>\n",
       "      <td>40</td>\n",
       "      <td>41</td>\n",
       "      <td>42</td>\n",
       "      <td>43</td>\n",
       "      <td>44</td>\n",
       "      <td>45</td>\n",
       "      <td>46</td>\n",
       "      <td>47</td>\n",
       "      <td>48</td>\n",
       "      <td>49</td>\n",
       "    </tr>\n",
       "    <tr>\n",
       "      <th>r6</th>\n",
       "      <td>50</td>\n",
       "      <td>51</td>\n",
       "      <td>52</td>\n",
       "      <td>53</td>\n",
       "      <td>54</td>\n",
       "      <td>55</td>\n",
       "      <td>56</td>\n",
       "      <td>57</td>\n",
       "      <td>58</td>\n",
       "      <td>59</td>\n",
       "    </tr>\n",
       "    <tr>\n",
       "      <th>r7</th>\n",
       "      <td>60</td>\n",
       "      <td>61</td>\n",
       "      <td>62</td>\n",
       "      <td>63</td>\n",
       "      <td>64</td>\n",
       "      <td>65</td>\n",
       "      <td>66</td>\n",
       "      <td>67</td>\n",
       "      <td>68</td>\n",
       "      <td>69</td>\n",
       "    </tr>\n",
       "    <tr>\n",
       "      <th>r8</th>\n",
       "      <td>70</td>\n",
       "      <td>71</td>\n",
       "      <td>72</td>\n",
       "      <td>73</td>\n",
       "      <td>74</td>\n",
       "      <td>75</td>\n",
       "      <td>76</td>\n",
       "      <td>77</td>\n",
       "      <td>78</td>\n",
       "      <td>79</td>\n",
       "    </tr>\n",
       "    <tr>\n",
       "      <th>r9</th>\n",
       "      <td>80</td>\n",
       "      <td>81</td>\n",
       "      <td>82</td>\n",
       "      <td>83</td>\n",
       "      <td>84</td>\n",
       "      <td>85</td>\n",
       "      <td>86</td>\n",
       "      <td>87</td>\n",
       "      <td>88</td>\n",
       "      <td>89</td>\n",
       "    </tr>\n",
       "    <tr>\n",
       "      <th>r10</th>\n",
       "      <td>90</td>\n",
       "      <td>91</td>\n",
       "      <td>92</td>\n",
       "      <td>93</td>\n",
       "      <td>94</td>\n",
       "      <td>95</td>\n",
       "      <td>96</td>\n",
       "      <td>97</td>\n",
       "      <td>98</td>\n",
       "      <td>99</td>\n",
       "    </tr>\n",
       "  </tbody>\n",
       "</table>\n",
       "</div>"
      ],
      "text/plain": [
       "     c1  c2  c3  c4  c5  c6  c7  c8  c9  c10\n",
       "r1    0   1   2   3   4   5   6   7   8    9\n",
       "r2   10  11  12  13  14  15  16  17  18   19\n",
       "r3   20  21  22  23  24  25  26  27  28   29\n",
       "r4   30  31  32  33  34  35  36  37  38   39\n",
       "r5   40  41  42  43  44  45  46  47  48   49\n",
       "r6   50  51  52  53  54  55  56  57  58   59\n",
       "r7   60  61  62  63  64  65  66  67  68   69\n",
       "r8   70  71  72  73  74  75  76  77  78   79\n",
       "r9   80  81  82  83  84  85  86  87  88   89\n",
       "r10  90  91  92  93  94  95  96  97  98   99"
      ]
     },
     "execution_count": 54,
     "metadata": {},
     "output_type": "execute_result"
    }
   ],
   "source": [
    "C=[f'c{i}' for i in range(1,11)] # c1, ... c10 생성\n",
    "R=[f'r{i}' for i in range(1,11)] # r1, ... r10 생성\n",
    "D=np.array([i for i in range(100)]) # 0,1,2,...,99 생성\n",
    "D=D.reshape(10,10) # 10 by 10으로 재배치 시킴\n",
    "df=pd.DataFrame(data=D,columns=C,index=R)\n",
    "df"
   ]
  },
  {
   "cell_type": "code",
   "execution_count": 61,
   "id": "a6fb421b-1161-4b03-8152-c959d5a5bfa5",
   "metadata": {
    "tags": []
   },
   "outputs": [
    {
     "data": {
      "text/html": [
       "<div>\n",
       "<style scoped>\n",
       "    .dataframe tbody tr th:only-of-type {\n",
       "        vertical-align: middle;\n",
       "    }\n",
       "\n",
       "    .dataframe tbody tr th {\n",
       "        vertical-align: top;\n",
       "    }\n",
       "\n",
       "    .dataframe thead th {\n",
       "        text-align: right;\n",
       "    }\n",
       "</style>\n",
       "<table border=\"1\" class=\"dataframe\">\n",
       "  <thead>\n",
       "    <tr style=\"text-align: right;\">\n",
       "      <th></th>\n",
       "      <th>C_Grp</th>\n",
       "    </tr>\n",
       "  </thead>\n",
       "  <tbody>\n",
       "    <tr>\n",
       "      <th>r1</th>\n",
       "      <td>25</td>\n",
       "    </tr>\n",
       "    <tr>\n",
       "      <th>r2</th>\n",
       "      <td>75</td>\n",
       "    </tr>\n",
       "    <tr>\n",
       "      <th>r3</th>\n",
       "      <td>125</td>\n",
       "    </tr>\n",
       "    <tr>\n",
       "      <th>r4</th>\n",
       "      <td>175</td>\n",
       "    </tr>\n",
       "    <tr>\n",
       "      <th>r5</th>\n",
       "      <td>225</td>\n",
       "    </tr>\n",
       "    <tr>\n",
       "      <th>r6</th>\n",
       "      <td>275</td>\n",
       "    </tr>\n",
       "    <tr>\n",
       "      <th>r7</th>\n",
       "      <td>325</td>\n",
       "    </tr>\n",
       "    <tr>\n",
       "      <th>r8</th>\n",
       "      <td>375</td>\n",
       "    </tr>\n",
       "    <tr>\n",
       "      <th>r9</th>\n",
       "      <td>425</td>\n",
       "    </tr>\n",
       "    <tr>\n",
       "      <th>r10</th>\n",
       "      <td>475</td>\n",
       "    </tr>\n",
       "  </tbody>\n",
       "</table>\n",
       "</div>"
      ],
      "text/plain": [
       "     C_Grp\n",
       "r1      25\n",
       "r2      75\n",
       "r3     125\n",
       "r4     175\n",
       "r5     225\n",
       "r6     275\n",
       "r7     325\n",
       "r8     375\n",
       "r9     425\n",
       "r10    475"
      ]
     },
     "execution_count": 61,
     "metadata": {},
     "output_type": "execute_result"
    }
   ],
   "source": [
    "# 칼럼합 구하기\n",
    "# f문을 이용해 dictionary 형태 자료 생성\n",
    "# {'c2':'C_Grp','c4':'C_Grp','c6':'C_Grp','c8':'C_Grp','c10':'C_Grp'}\n",
    "dic={f'c{2*i}':'C_Grp' for i in range(1,6)}\n",
    "df.groupby(dic,axis=1).sum() # axis=0은 행 방향, axis=1은 칼럼방향이 됨"
   ]
  },
  {
   "cell_type": "code",
   "execution_count": 63,
   "id": "14dc5bd1-608e-44f4-8d25-0fe7a3228b1f",
   "metadata": {
    "tags": []
   },
   "outputs": [
    {
     "data": {
      "text/html": [
       "<div>\n",
       "<style scoped>\n",
       "    .dataframe tbody tr th:only-of-type {\n",
       "        vertical-align: middle;\n",
       "    }\n",
       "\n",
       "    .dataframe tbody tr th {\n",
       "        vertical-align: top;\n",
       "    }\n",
       "\n",
       "    .dataframe thead th {\n",
       "        text-align: right;\n",
       "    }\n",
       "</style>\n",
       "<table border=\"1\" class=\"dataframe\">\n",
       "  <thead>\n",
       "    <tr style=\"text-align: right;\">\n",
       "      <th></th>\n",
       "      <th>c1</th>\n",
       "      <th>c2</th>\n",
       "      <th>c3</th>\n",
       "      <th>c4</th>\n",
       "      <th>c5</th>\n",
       "      <th>c6</th>\n",
       "      <th>c7</th>\n",
       "      <th>c8</th>\n",
       "      <th>c9</th>\n",
       "      <th>c10</th>\n",
       "    </tr>\n",
       "  </thead>\n",
       "  <tbody>\n",
       "    <tr>\n",
       "      <th>R_Grp</th>\n",
       "      <td>200</td>\n",
       "      <td>205</td>\n",
       "      <td>210</td>\n",
       "      <td>215</td>\n",
       "      <td>220</td>\n",
       "      <td>225</td>\n",
       "      <td>230</td>\n",
       "      <td>235</td>\n",
       "      <td>240</td>\n",
       "      <td>245</td>\n",
       "    </tr>\n",
       "  </tbody>\n",
       "</table>\n",
       "</div>"
      ],
      "text/plain": [
       "        c1   c2   c3   c4   c5   c6   c7   c8   c9  c10\n",
       "R_Grp  200  205  210  215  220  225  230  235  240  245"
      ]
     },
     "execution_count": 63,
     "metadata": {},
     "output_type": "execute_result"
    }
   ],
   "source": [
    "# row들에 대한 부분합 구하기\n",
    "# f문을 이용해 dictionary 형태 자료 생성\n",
    "# {'r1': 'R_Grp', 'r3': 'R_Grp', 'r5': 'R_Grp', 'r7': 'R_Grp', 'r9': 'R_Grp'}\n",
    "dic={f'r{2*i-1}':'R_Grp' for i in range(1,6)}\n",
    "df.groupby(dic,axis=0).sum() # axis=0은 생략해도 된다. "
   ]
  },
  {
   "cell_type": "code",
   "execution_count": 65,
   "id": "d55bd307-a555-46fc-85a2-5537ed783bfb",
   "metadata": {
    "tags": []
   },
   "outputs": [
    {
     "data": {
      "text/html": [
       "<div>\n",
       "<style scoped>\n",
       "    .dataframe tbody tr th:only-of-type {\n",
       "        vertical-align: middle;\n",
       "    }\n",
       "\n",
       "    .dataframe tbody tr th {\n",
       "        vertical-align: top;\n",
       "    }\n",
       "\n",
       "    .dataframe thead th {\n",
       "        text-align: right;\n",
       "    }\n",
       "</style>\n",
       "<table border=\"1\" class=\"dataframe\">\n",
       "  <thead>\n",
       "    <tr style=\"text-align: right;\">\n",
       "      <th></th>\n",
       "      <th>c1</th>\n",
       "      <th>c2</th>\n",
       "      <th>c3</th>\n",
       "      <th>c4</th>\n",
       "      <th>c5</th>\n",
       "      <th>c6</th>\n",
       "      <th>c7</th>\n",
       "      <th>c8</th>\n",
       "      <th>c9</th>\n",
       "      <th>c10</th>\n",
       "    </tr>\n",
       "  </thead>\n",
       "  <tbody>\n",
       "    <tr>\n",
       "      <th>R_Grp</th>\n",
       "      <td>200</td>\n",
       "      <td>205</td>\n",
       "      <td>210</td>\n",
       "      <td>215</td>\n",
       "      <td>220</td>\n",
       "      <td>225</td>\n",
       "      <td>230</td>\n",
       "      <td>235</td>\n",
       "      <td>240</td>\n",
       "      <td>245</td>\n",
       "    </tr>\n",
       "  </tbody>\n",
       "</table>\n",
       "</div>"
      ],
      "text/plain": [
       "        c1   c2   c3   c4   c5   c6   c7   c8   c9  c10\n",
       "R_Grp  200  205  210  215  220  225  230  235  240  245"
      ]
     },
     "execution_count": 65,
     "metadata": {},
     "output_type": "execute_result"
    }
   ],
   "source": [
    "# 사용자 정의 함수를 만들어서 \n",
    "R_sum=[f'r{2*i-1}' for i in range(1,6)] # r1,r3,r5,r7,r9\n",
    "def row_sum(x):\n",
    "    if x in R_sum: # x가 R_sum에 속한다면\n",
    "        return 'R_Grp'\n",
    "\n",
    "df.groupby(row_sum,axis=0).sum()"
   ]
  },
  {
   "cell_type": "markdown",
   "id": "483696f8-6dc7-4051-b22a-8f843e0e8873",
   "metadata": {
    "tags": []
   },
   "source": [
    "# [Kaggle 닷컴](https://www.kaggle.com/datasets/victoriayuno/titaniccsv)의 타이타닉 생존자 데이터 분석"
   ]
  },
  {
   "cell_type": "code",
   "execution_count": 1,
   "id": "a1cb5a66-0c00-463c-967b-b55464483517",
   "metadata": {
    "tags": []
   },
   "outputs": [
    {
     "name": "stdout",
     "output_type": "stream",
     "text": [
      "<class 'pandas.core.frame.DataFrame'>\n",
      "RangeIndex: 891 entries, 0 to 890\n",
      "Data columns (total 12 columns):\n",
      " #   Column       Non-Null Count  Dtype  \n",
      "---  ------       --------------  -----  \n",
      " 0   PassengerId  891 non-null    int64  \n",
      " 1   Survived     891 non-null    int64  \n",
      " 2   Pclass       891 non-null    int64  \n",
      " 3   Name         891 non-null    object \n",
      " 4   Sex          891 non-null    object \n",
      " 5   Age          714 non-null    float64\n",
      " 6   SibSp        891 non-null    int64  \n",
      " 7   Parch        891 non-null    int64  \n",
      " 8   Ticket       891 non-null    object \n",
      " 9   Fare         891 non-null    float64\n",
      " 10  Cabin        204 non-null    object \n",
      " 11  Embarked     889 non-null    object \n",
      "dtypes: float64(2), int64(5), object(5)\n",
      "memory usage: 83.7+ KB\n"
     ]
    }
   ],
   "source": [
    "import pandas as pd # pandas 패키지를 pd라는 별명으로 불러옴\n",
    "file='C:/Temp/Titanic.csv' # 파일 위치 지정\n",
    "df=pd.read_csv(file) # csv 파일을 읽어서 DataFrame으로 저장 해줌\n",
    "df.info() # dataframe의 정보 표시"
   ]
  },
  {
   "cell_type": "code",
   "execution_count": 2,
   "id": "6f3c5e90-335c-4470-9db4-cee32cfd64b8",
   "metadata": {
    "tags": []
   },
   "outputs": [
    {
     "data": {
      "text/plain": [
       "0    549\n",
       "1    342\n",
       "Name: Survived, dtype: int64"
      ]
     },
     "execution_count": 2,
     "metadata": {},
     "output_type": "execute_result"
    }
   ],
   "source": [
    "# Survived 칼럼의 값의 분포 보기\n",
    "df.Survived.value_counts()"
   ]
  },
  {
   "cell_type": "code",
   "execution_count": 3,
   "id": "78140c89-78e5-4aad-8ef6-a1aeaf30f177",
   "metadata": {
    "tags": []
   },
   "outputs": [
    {
     "data": {
      "text/html": [
       "<div>\n",
       "<style scoped>\n",
       "    .dataframe tbody tr th:only-of-type {\n",
       "        vertical-align: middle;\n",
       "    }\n",
       "\n",
       "    .dataframe tbody tr th {\n",
       "        vertical-align: top;\n",
       "    }\n",
       "\n",
       "    .dataframe thead th {\n",
       "        text-align: right;\n",
       "    }\n",
       "</style>\n",
       "<table border=\"1\" class=\"dataframe\">\n",
       "  <thead>\n",
       "    <tr style=\"text-align: right;\">\n",
       "      <th></th>\n",
       "      <th>Survived</th>\n",
       "    </tr>\n",
       "    <tr>\n",
       "      <th>Sex</th>\n",
       "      <th></th>\n",
       "    </tr>\n",
       "  </thead>\n",
       "  <tbody>\n",
       "    <tr>\n",
       "      <th>female</th>\n",
       "      <td>233</td>\n",
       "    </tr>\n",
       "    <tr>\n",
       "      <th>male</th>\n",
       "      <td>109</td>\n",
       "    </tr>\n",
       "  </tbody>\n",
       "</table>\n",
       "</div>"
      ],
      "text/plain": [
       "        Survived\n",
       "Sex             \n",
       "female       233\n",
       "male         109"
      ]
     },
     "execution_count": 3,
     "metadata": {},
     "output_type": "execute_result"
    }
   ],
   "source": [
    "# Sex에 따른 Survived의 수와 평균이 어떻게 되는지 표로 계산해 보아라. \n",
    "df.pivot_table(values='Survived',index='Sex',aggfunc='sum')"
   ]
  },
  {
   "cell_type": "code",
   "execution_count": 4,
   "id": "fa47495d-8864-40ea-8534-c843d6d3b210",
   "metadata": {
    "tags": []
   },
   "outputs": [
    {
     "data": {
      "text/plain": [
       "Sex     Survived\n",
       "female  0            81\n",
       "        1           233\n",
       "male    0           468\n",
       "        1           109\n",
       "Name: Survived, dtype: int64"
      ]
     },
     "execution_count": 4,
     "metadata": {},
     "output_type": "execute_result"
    }
   ],
   "source": [
    "# groupby()로 살펴보기\n",
    "df.groupby(['Sex','Survived'])['Survived'].count()"
   ]
  },
  {
   "cell_type": "code",
   "execution_count": 5,
   "id": "7eda30d6-2111-424d-aee1-87e7d1d4f0ce",
   "metadata": {
    "tags": []
   },
   "outputs": [
    {
     "data": {
      "text/plain": [
       "<Axes: xlabel='Sex', ylabel='Survived'>"
      ]
     },
     "execution_count": 5,
     "metadata": {},
     "output_type": "execute_result"
    },
    {
     "data": {
      "image/png": "[encoded data removed]",
      "text/plain": [
       "<Figure size 640x480 with 1 Axes>"
      ]
     },
     "metadata": {},
     "output_type": "display_data"
    }
   ],
   "source": [
    "# Sex에 따른 Survived의 수를 그래프로\n",
    "import seaborn as sns # seaborn 이라는 패키지를 sns로 불러옴\n",
    "import numpy as np\n",
    "# barplot의 estimator: 막대의 높이를 결정하기 위한 통계적 추정 방법을 지정할 수 있음\n",
    "# 기본값인 평균을 사용하거나 numpy.median과 같은 사용자 정의 함수를 지정할 수 있음.\n",
    "sns.barplot(x='Sex',y='Survived',data=df,estimator=np.sum)"
   ]
  },
  {
   "cell_type": "code",
   "execution_count": 6,
   "id": "4fa55777-059e-485d-b9aa-def42800fb9a",
   "metadata": {
    "tags": []
   },
   "outputs": [
    {
     "name": "stdout",
     "output_type": "stream",
     "text": [
      "<class 'pandas.core.frame.DataFrame'>\n",
      "RangeIndex: 891 entries, 0 to 890\n",
      "Data columns (total 12 columns):\n",
      " #   Column       Non-Null Count  Dtype  \n",
      "---  ------       --------------  -----  \n",
      " 0   PassengerId  891 non-null    int64  \n",
      " 1   Survived     891 non-null    int64  \n",
      " 2   Pclass       891 non-null    int64  \n",
      " 3   Name         891 non-null    object \n",
      " 4   Sex          891 non-null    object \n",
      " 5   Age          714 non-null    float64\n",
      " 6   SibSp        891 non-null    int64  \n",
      " 7   Parch        891 non-null    int64  \n",
      " 8   Ticket       891 non-null    object \n",
      " 9   Fare         891 non-null    float64\n",
      " 10  Cabin        204 non-null    object \n",
      " 11  Embarked     889 non-null    object \n",
      "dtypes: float64(2), int64(5), object(5)\n",
      "memory usage: 83.7+ KB\n"
     ]
    }
   ],
   "source": [
    "# 불필요한 컬럼 제거 하기\n",
    "# inplace=True로 설정하지 않으면, df가 수정되지 않음\n",
    "df.drop(columns=['PassengerId','Name','Ticket'])\n",
    "df.info()"
   ]
  },
  {
   "cell_type": "code",
   "execution_count": 74,
   "id": "08f01bc0-9f54-4866-9c1d-ea8613e25d25",
   "metadata": {
    "tags": []
   },
   "outputs": [
    {
     "name": "stdout",
     "output_type": "stream",
     "text": [
      "<class 'pandas.core.frame.DataFrame'>\n",
      "RangeIndex: 891 entries, 0 to 890\n",
      "Data columns (total 9 columns):\n",
      " #   Column    Non-Null Count  Dtype  \n",
      "---  ------    --------------  -----  \n",
      " 0   Survived  891 non-null    int64  \n",
      " 1   Pclass    891 non-null    int64  \n",
      " 2   Sex       891 non-null    object \n",
      " 3   Age       714 non-null    float64\n",
      " 4   SibSp     891 non-null    int64  \n",
      " 5   Parch     891 non-null    int64  \n",
      " 6   Fare      891 non-null    float64\n",
      " 7   Cabin     204 non-null    object \n",
      " 8   Embarked  889 non-null    object \n",
      "dtypes: float64(2), int64(4), object(3)\n",
      "memory usage: 62.8+ KB\n"
     ]
    }
   ],
   "source": [
    "# 불필요한 컬럼 제거 하기\n",
    "df.drop(columns=['PassengerId','Name','Ticket'],inplace=True)\n",
    "df.info()"
   ]
  },
  {
   "cell_type": "code",
   "execution_count": 75,
   "id": "a5106186-5caa-4b89-bcbb-90fc4a22d6df",
   "metadata": {
    "tags": []
   },
   "outputs": [
    {
     "name": "stdout",
     "output_type": "stream",
     "text": [
      "<class 'pandas.core.frame.DataFrame'>\n",
      "Int64Index: 714 entries, 0 to 890\n",
      "Data columns (total 9 columns):\n",
      " #   Column    Non-Null Count  Dtype  \n",
      "---  ------    --------------  -----  \n",
      " 0   Survived  714 non-null    int64  \n",
      " 1   Pclass    714 non-null    int64  \n",
      " 2   Sex       714 non-null    object \n",
      " 3   Age       714 non-null    float64\n",
      " 4   SibSp     714 non-null    int64  \n",
      " 5   Parch     714 non-null    int64  \n",
      " 6   Fare      714 non-null    float64\n",
      " 7   Cabin     185 non-null    object \n",
      " 8   Embarked  712 non-null    object \n",
      "dtypes: float64(2), int64(4), object(3)\n",
      "memory usage: 55.8+ KB\n"
     ]
    }
   ],
   "source": [
    "# Age의 데이터가 없는 행 삭제\n",
    "df.dropna(subset=['Age'],inplace=True)\n",
    "df.info()"
   ]
  },
  {
   "cell_type": "code",
   "execution_count": 76,
   "id": "231fcdf0-6dce-40df-8917-9bb84e4effc8",
   "metadata": {
    "tags": []
   },
   "outputs": [
    {
     "data": {
      "text/plain": [
       "29.69911764705882"
      ]
     },
     "execution_count": 76,
     "metadata": {},
     "output_type": "execute_result"
    }
   ],
   "source": [
    "# Age 칼럼의 평균값 구하기\n",
    "df.Age.mean()"
   ]
  },
  {
   "cell_type": "code",
   "execution_count": 77,
   "id": "2b85b23f-acfc-48b9-861d-22b0fd929aac",
   "metadata": {
    "tags": []
   },
   "outputs": [
    {
     "name": "stdout",
     "output_type": "stream",
     "text": [
      "<class 'pandas.core.frame.DataFrame'>\n",
      "Int64Index: 714 entries, 0 to 890\n",
      "Data columns (total 9 columns):\n",
      " #   Column    Non-Null Count  Dtype  \n",
      "---  ------    --------------  -----  \n",
      " 0   Survived  714 non-null    int64  \n",
      " 1   Pclass    714 non-null    int64  \n",
      " 2   Sex       714 non-null    object \n",
      " 3   Age       714 non-null    float64\n",
      " 4   SibSp     714 non-null    int64  \n",
      " 5   Parch     714 non-null    int64  \n",
      " 6   Fare      714 non-null    float64\n",
      " 7   Cabin     714 non-null    object \n",
      " 8   Embarked  714 non-null    object \n",
      "dtypes: float64(2), int64(4), object(3)\n",
      "memory usage: 55.8+ KB\n"
     ]
    }
   ],
   "source": [
    "# missing data 만들어 넣기\n",
    "df['Age'].fillna(df['Age'].mean(),inplace=True)\n",
    "df['Cabin'].fillna('N',inplace=True)\n",
    "df['Embarked'].fillna('N',inplace=True)\n",
    "df.info()"
   ]
  },
  {
   "cell_type": "code",
   "execution_count": 78,
   "id": "ab5309a2-7346-425d-a6f4-13e19e107459",
   "metadata": {
    "tags": []
   },
   "outputs": [
    {
     "data": {
      "text/plain": [
       "N    529\n",
       "C     51\n",
       "B     45\n",
       "D     31\n",
       "E     30\n",
       "A     12\n",
       "F     11\n",
       "G      4\n",
       "T      1\n",
       "Name: Cabin, dtype: int64"
      ]
     },
     "execution_count": 78,
     "metadata": {},
     "output_type": "execute_result"
    }
   ],
   "source": [
    "df['Cabin']=df['Cabin'].str[:1] # 첫번째 문자열 선택\n",
    "df['Cabin'].value_counts()"
   ]
  },
  {
   "cell_type": "code",
   "execution_count": 81,
   "id": "44e27fb5-0b72-47e4-9532-b4cbffd93746",
   "metadata": {
    "tags": []
   },
   "outputs": [],
   "source": [
    "# 다른 데이터로 저장하기\n",
    "df.to_excel('C:/Temp/TT.xlsx') # 엑셀데이터 저장\n",
    "df.to_csv('C:/Temp/TT.csv') # csv 형태로 저장"
   ]
  },
  {
   "cell_type": "code",
   "execution_count": 82,
   "id": "23e87376-1384-4930-82b7-082a193ed020",
   "metadata": {
    "tags": []
   },
   "outputs": [
    {
     "name": "stdout",
     "output_type": "stream",
     "text": [
      "<class 'pandas.core.frame.DataFrame'>\n",
      "RangeIndex: 714 entries, 0 to 713\n",
      "Data columns (total 10 columns):\n",
      " #   Column      Non-Null Count  Dtype  \n",
      "---  ------      --------------  -----  \n",
      " 0   Unnamed: 0  714 non-null    int64  \n",
      " 1   Survived    714 non-null    int64  \n",
      " 2   Pclass      714 non-null    int64  \n",
      " 3   Sex         714 non-null    object \n",
      " 4   Age         714 non-null    float64\n",
      " 5   SibSp       714 non-null    int64  \n",
      " 6   Parch       714 non-null    int64  \n",
      " 7   Fare        714 non-null    float64\n",
      " 8   Cabin       714 non-null    object \n",
      " 9   Embarked    714 non-null    object \n",
      "dtypes: float64(2), int64(5), object(3)\n",
      "memory usage: 55.9+ KB\n"
     ]
    }
   ],
   "source": [
    "# 저장된 Excel 파일을 읽어와서 데이터 프레임으로 보기\n",
    "df1=pd.read_excel('C:/Temp/TT.xlsx')\n",
    "df1.info()"
   ]
  },
  {
   "cell_type": "code",
   "execution_count": 84,
   "id": "a2a408a5-64d5-4974-b6d1-497c0c90c380",
   "metadata": {
    "tags": []
   },
   "outputs": [],
   "source": [
    "import xlwings as xw # xlwings라이브러리르 xw 별명으로 읽어온다. \n",
    "xw.view(df1)"
   ]
  },
  {
   "cell_type": "markdown",
   "id": "e3402bed-7443-46a9-bd4f-1023012b5282",
   "metadata": {},
   "source": [
    "# 2024년 1월1일부터 3000일간의 일간 데이터를 생성하고, 1000부터 3000까지의 자연수 난수를 3000개 생성하여 ‘종가’라는 이름의 칼럼으로 데이터프레임을 작성해 보아라. "
   ]
  },
  {
   "cell_type": "code",
   "execution_count": 1,
   "id": "7c2344e2-5577-4383-8d08-e4982c23a503",
   "metadata": {
    "tags": []
   },
   "outputs": [
    {
     "data": {
      "text/html": [
       "<div>\n",
       "<style scoped>\n",
       "    .dataframe tbody tr th:only-of-type {\n",
       "        vertical-align: middle;\n",
       "    }\n",
       "\n",
       "    .dataframe tbody tr th {\n",
       "        vertical-align: top;\n",
       "    }\n",
       "\n",
       "    .dataframe thead th {\n",
       "        text-align: right;\n",
       "    }\n",
       "</style>\n",
       "<table border=\"1\" class=\"dataframe\">\n",
       "  <thead>\n",
       "    <tr style=\"text-align: right;\">\n",
       "      <th></th>\n",
       "      <th>종가</th>\n",
       "    </tr>\n",
       "  </thead>\n",
       "  <tbody>\n",
       "    <tr>\n",
       "      <th>2024-01-01</th>\n",
       "      <td>2365</td>\n",
       "    </tr>\n",
       "    <tr>\n",
       "      <th>2024-01-02</th>\n",
       "      <td>1814</td>\n",
       "    </tr>\n",
       "    <tr>\n",
       "      <th>2024-01-03</th>\n",
       "      <td>2047</td>\n",
       "    </tr>\n",
       "    <tr>\n",
       "      <th>2024-01-04</th>\n",
       "      <td>1143</td>\n",
       "    </tr>\n",
       "    <tr>\n",
       "      <th>2024-01-05</th>\n",
       "      <td>2186</td>\n",
       "    </tr>\n",
       "    <tr>\n",
       "      <th>2024-01-06</th>\n",
       "      <td>2323</td>\n",
       "    </tr>\n",
       "    <tr>\n",
       "      <th>2024-01-07</th>\n",
       "      <td>1122</td>\n",
       "    </tr>\n",
       "    <tr>\n",
       "      <th>2024-01-08</th>\n",
       "      <td>1502</td>\n",
       "    </tr>\n",
       "    <tr>\n",
       "      <th>2024-01-09</th>\n",
       "      <td>1883</td>\n",
       "    </tr>\n",
       "    <tr>\n",
       "      <th>2024-01-10</th>\n",
       "      <td>1954</td>\n",
       "    </tr>\n",
       "  </tbody>\n",
       "</table>\n",
       "</div>"
      ],
      "text/plain": [
       "              종가\n",
       "2024-01-01  2365\n",
       "2024-01-02  1814\n",
       "2024-01-03  2047\n",
       "2024-01-04  1143\n",
       "2024-01-05  2186\n",
       "2024-01-06  2323\n",
       "2024-01-07  1122\n",
       "2024-01-08  1502\n",
       "2024-01-09  1883\n",
       "2024-01-10  1954"
      ]
     },
     "execution_count": 1,
     "metadata": {},
     "output_type": "execute_result"
    }
   ],
   "source": [
    "import pandas as pd \n",
    "import numpy as np\n",
    "# date_range()함수를 이용하여 날짜 데이터 생성\n",
    "# 매개변수 periods는 데이터 개수, freq='D'는 일간 데이터 생성\n",
    "# freq가 'W'이면 주간, 'W-MON'이면 월요일마다, 'M'이면 월간, 'Q'이면 분기당\n",
    "D_date=pd.date_range('2024-1-1',periods=3000,freq='D')\n",
    "Close=np.random.randint(1000,3001,size=3000) #1000부터 3000까지의 자연수 난수 \n",
    "df=pd.DataFrame(data={'종가':Close},index=D_date)\n",
    "df.head(10) # 처음 10개의 데이터 보기"
   ]
  },
  {
   "cell_type": "code",
   "execution_count": 5,
   "id": "933c5a96-a234-4f69-9853-221e2c6eb7b0",
   "metadata": {},
   "outputs": [
    {
     "data": {
      "text/plain": [
       "DatetimeIndex(['2023-09-25', '2023-09-26', '2023-09-27', '2023-09-28',\n",
       "               '2023-09-29', '2023-10-02', '2023-10-03', '2023-10-04',\n",
       "               '2023-10-05', '2023-10-06'],\n",
       "              dtype='datetime64[ns]', freq='B')"
      ]
     },
     "execution_count": 5,
     "metadata": {},
     "output_type": "execute_result"
    }
   ],
   "source": [
    "# 주말 제외한 10개의 날짜 생성\n",
    "import pandas as pd \n",
    "\n",
    "D0=pd.date_range('2023-09-25',periods=10,freq='B') \n",
    "D0"
   ]
  },
  {
   "cell_type": "code",
   "execution_count": 13,
   "id": "24611fa1-7105-4dcc-86f1-e69e7caa9c67",
   "metadata": {
    "tags": []
   },
   "outputs": [
    {
     "data": {
      "text/plain": [
       "DatetimeIndex(['2023-09-25', '2023-09-26', '2023-09-27', '2023-10-04',\n",
       "               '2023-10-05', '2023-10-06'],\n",
       "              dtype='datetime64[ns]', freq=None)"
      ]
     },
     "execution_count": 13,
     "metadata": {},
     "output_type": "execute_result"
    }
   ],
   "source": [
    "# 대한민국의 달력기준으로 데이터 만들기\n",
    "import holidays # 별도로 설치하여야 함\n",
    "\n",
    "# 주말을 제외한 대한민국의 휴일 정보를 가져온다. \n",
    "# 아래는 2023년만의 휴일 정보를 가져오도록 설정했다. \n",
    "kor_holidays=list(holidays.KOR(years=range(2023,2024)).keys()) #list()데이터로 변환\n",
    "kor_holidays.append('2023-10-02') # 법정공휴일 추가\n",
    "kor_holidays=pd.to_datetime(kor_holidays) # 데이터프레임 날짜로 변환\n",
    "\n",
    "# Business days로 10개의 날짜 생성\n",
    "D_samples=pd.date_range('2023-09-25',periods=10,freq='B')\n",
    "\n",
    "# 생성된 날짜에서 대한민국 휴일 제외\n",
    "# 아래에서 사용된 isin()은 존재하는지를 확인하는 내장함수\n",
    "D0=D_samples[~D_samples.isin(kor_holidays)] # 휴일정보에 포함되지 않는 날짜만 추출\n",
    "D0"
   ]
  },
  {
   "cell_type": "markdown",
   "id": "7e0840aa-357a-4370-92e4-5bcd50e6d8df",
   "metadata": {},
   "source": [
    "# [Kaggle 닷컴](https://www.kaggle.com/datasets/mattiuzc/stock-exchange-data)의 주가 데이터 분석"
   ]
  },
  {
   "cell_type": "code",
   "execution_count": 1,
   "id": "6ec15c0d-d09b-4729-af25-3373adc1e914",
   "metadata": {
    "tags": []
   },
   "outputs": [
    {
     "name": "stdout",
     "output_type": "stream",
     "text": [
      "<class 'pandas.core.frame.DataFrame'>\n",
      "RangeIndex: 112457 entries, 0 to 112456\n",
      "Data columns (total 8 columns):\n",
      " #   Column     Non-Null Count   Dtype  \n",
      "---  ------     --------------   -----  \n",
      " 0   Index      112457 non-null  object \n",
      " 1   Date       112457 non-null  object \n",
      " 2   Open       110253 non-null  float64\n",
      " 3   High       110253 non-null  float64\n",
      " 4   Low        110253 non-null  float64\n",
      " 5   Close      110253 non-null  float64\n",
      " 6   Adj Close  110253 non-null  float64\n",
      " 7   Volume     110253 non-null  float64\n",
      "dtypes: float64(6), object(2)\n",
      "memory usage: 6.9+ MB\n"
     ]
    }
   ],
   "source": [
    "import pandas as pd # pandas 패키지를 pd라는 별명으로 불러옴\n",
    "file='C:/Temp/indexData.csv' # 파일 위치 지정\n",
    "df=pd.read_csv(file) # csv 파일을 읽어서 DataFrame으로 저장 해줌\n",
    "df.info() # dataframe의 정보 표시"
   ]
  },
  {
   "cell_type": "code",
   "execution_count": 2,
   "id": "c0d78626-292a-48b4-abe5-dae8ef2a9e62",
   "metadata": {
    "tags": []
   },
   "outputs": [
    {
     "data": {
      "text/plain": [
       "0    1965-12-31\n",
       "1    1966-01-03\n",
       "2    1966-01-04\n",
       "3    1966-01-05\n",
       "4    1966-01-06\n",
       "Name: Date, dtype: object"
      ]
     },
     "execution_count": 2,
     "metadata": {},
     "output_type": "execute_result"
    }
   ],
   "source": [
    "df.Date.head(5)"
   ]
  },
  {
   "cell_type": "code",
   "execution_count": 3,
   "id": "56460829-6a9c-453d-89f5-64576d917c81",
   "metadata": {
    "tags": []
   },
   "outputs": [
    {
     "data": {
      "text/plain": [
       "112452    2021-05-27\n",
       "112453    2021-05-28\n",
       "112454    2021-05-31\n",
       "112455    2021-06-01\n",
       "112456    2021-06-02\n",
       "Name: Date, dtype: object"
      ]
     },
     "execution_count": 3,
     "metadata": {},
     "output_type": "execute_result"
    }
   ],
   "source": [
    "df.Date.tail(5)"
   ]
  },
  {
   "cell_type": "code",
   "execution_count": 4,
   "id": "7ca3aa81-af6d-4a09-9c9f-4ecc4915056d",
   "metadata": {
    "tags": []
   },
   "outputs": [
    {
     "data": {
      "text/plain": [
       "N225         14500\n",
       "NYA          13948\n",
       "IXIC         12690\n",
       "GSPTSE       10776\n",
       "HSI           8750\n",
       "GDAXI         8606\n",
       "SSMI          7830\n",
       "KS11          6181\n",
       "TWII          6010\n",
       "000001.SS     5963\n",
       "399001.SZ     5928\n",
       "N100          5507\n",
       "NSEI          3381\n",
       "J203.JO       2387\n",
       "Name: Index, dtype: int64"
      ]
     },
     "execution_count": 4,
     "metadata": {},
     "output_type": "execute_result"
    }
   ],
   "source": [
    "# df.Index의 값의 분포 보기\n",
    "df.Index.value_counts()"
   ]
  },
  {
   "cell_type": "code",
   "execution_count": 5,
   "id": "0ca316b1-8fed-4857-8dcd-eca7127ead37",
   "metadata": {
    "tags": []
   },
   "outputs": [
    {
     "name": "stdout",
     "output_type": "stream",
     "text": [
      "<class 'pandas.core.series.Series'>\n",
      "RangeIndex: 112457 entries, 0 to 112456\n",
      "Series name: Date\n",
      "Non-Null Count   Dtype         \n",
      "--------------   -----         \n",
      "112457 non-null  datetime64[ns]\n",
      "dtypes: datetime64[ns](1)\n",
      "memory usage: 878.7 KB\n"
     ]
    }
   ],
   "source": [
    "# 특정 칼럼을 선택할 때는 df['Date'] 혹은 df.Date 으로 선택해도 된다.  \n",
    "df['Date']=pd.to_datetime(df.Date) # to_datetime() 을 이용해 날짜 데이터로 변환\n",
    "df.Date.info() # 'Date' 칼럼에 대한 정보 출력"
   ]
  },
  {
   "cell_type": "code",
   "execution_count": 6,
   "id": "64cb2bf8-0d6b-44b0-a0c5-769545ea8261",
   "metadata": {
    "tags": []
   },
   "outputs": [
    {
     "name": "stdout",
     "output_type": "stream",
     "text": [
      "<class 'pandas.core.frame.DataFrame'>\n",
      "RangeIndex: 112457 entries, 0 to 112456\n",
      "Data columns (total 8 columns):\n",
      " #   Column     Non-Null Count   Dtype         \n",
      "---  ------     --------------   -----         \n",
      " 0   Index      112457 non-null  object        \n",
      " 1   Date       112457 non-null  datetime64[ns]\n",
      " 2   Open       110253 non-null  float64       \n",
      " 3   High       110253 non-null  float64       \n",
      " 4   Low        110253 non-null  float64       \n",
      " 5   Close      110253 non-null  float64       \n",
      " 6   Adj Close  110253 non-null  float64       \n",
      " 7   Volume     110253 non-null  float64       \n",
      "dtypes: datetime64[ns](1), float64(6), object(1)\n",
      "memory usage: 6.9+ MB\n"
     ]
    }
   ],
   "source": [
    "df.info()"
   ]
  },
  {
   "cell_type": "code",
   "execution_count": 7,
   "id": "6b02ad0a-9956-46eb-b6e1-6a0df02da6b7",
   "metadata": {
    "tags": []
   },
   "outputs": [
    {
     "data": {
      "text/html": [
       "<div>\n",
       "<style scoped>\n",
       "    .dataframe tbody tr th:only-of-type {\n",
       "        vertical-align: middle;\n",
       "    }\n",
       "\n",
       "    .dataframe tbody tr th {\n",
       "        vertical-align: top;\n",
       "    }\n",
       "\n",
       "    .dataframe thead th {\n",
       "        text-align: right;\n",
       "    }\n",
       "</style>\n",
       "<table border=\"1\" class=\"dataframe\">\n",
       "  <thead>\n",
       "    <tr style=\"text-align: right;\">\n",
       "      <th></th>\n",
       "      <th>Index</th>\n",
       "      <th>Open</th>\n",
       "      <th>High</th>\n",
       "      <th>Low</th>\n",
       "      <th>Close</th>\n",
       "      <th>Adj Close</th>\n",
       "      <th>Volume</th>\n",
       "    </tr>\n",
       "    <tr>\n",
       "      <th>Date</th>\n",
       "      <th></th>\n",
       "      <th></th>\n",
       "      <th></th>\n",
       "      <th></th>\n",
       "      <th></th>\n",
       "      <th></th>\n",
       "      <th></th>\n",
       "    </tr>\n",
       "  </thead>\n",
       "  <tbody>\n",
       "    <tr>\n",
       "      <th>2019-06-03</th>\n",
       "      <td>NYA</td>\n",
       "      <td>12288.509770</td>\n",
       "      <td>12372.820310</td>\n",
       "      <td>12273.089840</td>\n",
       "      <td>12341.820310</td>\n",
       "      <td>12341.820310</td>\n",
       "      <td>3.966700e+09</td>\n",
       "    </tr>\n",
       "    <tr>\n",
       "      <th>2019-06-04</th>\n",
       "      <td>NYA</td>\n",
       "      <td>12341.820310</td>\n",
       "      <td>12564.370120</td>\n",
       "      <td>12341.820310</td>\n",
       "      <td>12560.580080</td>\n",
       "      <td>12560.580080</td>\n",
       "      <td>3.810430e+09</td>\n",
       "    </tr>\n",
       "    <tr>\n",
       "      <th>2019-06-05</th>\n",
       "      <td>NYA</td>\n",
       "      <td>12607.349610</td>\n",
       "      <td>12618.219730</td>\n",
       "      <td>12530.150390</td>\n",
       "      <td>12614.700200</td>\n",
       "      <td>12614.700200</td>\n",
       "      <td>3.548830e+09</td>\n",
       "    </tr>\n",
       "    <tr>\n",
       "      <th>2019-06-06</th>\n",
       "      <td>NYA</td>\n",
       "      <td>12631.089840</td>\n",
       "      <td>12710.669920</td>\n",
       "      <td>12606.120120</td>\n",
       "      <td>12675.660160</td>\n",
       "      <td>12675.660160</td>\n",
       "      <td>3.396410e+09</td>\n",
       "    </tr>\n",
       "    <tr>\n",
       "      <th>2019-06-07</th>\n",
       "      <td>NYA</td>\n",
       "      <td>12725.379880</td>\n",
       "      <td>12814.809570</td>\n",
       "      <td>12725.379880</td>\n",
       "      <td>12765.860350</td>\n",
       "      <td>12765.860350</td>\n",
       "      <td>3.220250e+09</td>\n",
       "    </tr>\n",
       "    <tr>\n",
       "      <th>...</th>\n",
       "      <td>...</td>\n",
       "      <td>...</td>\n",
       "      <td>...</td>\n",
       "      <td>...</td>\n",
       "      <td>...</td>\n",
       "      <td>...</td>\n",
       "      <td>...</td>\n",
       "    </tr>\n",
       "    <tr>\n",
       "      <th>2019-06-24</th>\n",
       "      <td>N100</td>\n",
       "      <td>1071.739990</td>\n",
       "      <td>1075.569946</td>\n",
       "      <td>1067.920044</td>\n",
       "      <td>1069.329956</td>\n",
       "      <td>1069.329956</td>\n",
       "      <td>1.659836e+08</td>\n",
       "    </tr>\n",
       "    <tr>\n",
       "      <th>2019-06-25</th>\n",
       "      <td>N100</td>\n",
       "      <td>1064.829956</td>\n",
       "      <td>1068.750000</td>\n",
       "      <td>1064.829956</td>\n",
       "      <td>1066.729980</td>\n",
       "      <td>1066.729980</td>\n",
       "      <td>1.628686e+08</td>\n",
       "    </tr>\n",
       "    <tr>\n",
       "      <th>2019-06-26</th>\n",
       "      <td>N100</td>\n",
       "      <td>1064.439941</td>\n",
       "      <td>1069.709961</td>\n",
       "      <td>1062.959961</td>\n",
       "      <td>1063.819946</td>\n",
       "      <td>1063.819946</td>\n",
       "      <td>1.747766e+08</td>\n",
       "    </tr>\n",
       "    <tr>\n",
       "      <th>2019-06-27</th>\n",
       "      <td>N100</td>\n",
       "      <td>1064.910034</td>\n",
       "      <td>1065.780029</td>\n",
       "      <td>1057.010010</td>\n",
       "      <td>1062.380005</td>\n",
       "      <td>1062.380005</td>\n",
       "      <td>1.698720e+08</td>\n",
       "    </tr>\n",
       "    <tr>\n",
       "      <th>2019-06-28</th>\n",
       "      <td>N100</td>\n",
       "      <td>1062.119995</td>\n",
       "      <td>1072.229980</td>\n",
       "      <td>1061.969971</td>\n",
       "      <td>1071.439941</td>\n",
       "      <td>1071.439941</td>\n",
       "      <td>1.823296e+08</td>\n",
       "    </tr>\n",
       "  </tbody>\n",
       "</table>\n",
       "<p>271 rows × 7 columns</p>\n",
       "</div>"
      ],
      "text/plain": [
       "           Index          Open          High           Low         Close  \\\n",
       "Date                                                                       \n",
       "2019-06-03   NYA  12288.509770  12372.820310  12273.089840  12341.820310   \n",
       "2019-06-04   NYA  12341.820310  12564.370120  12341.820310  12560.580080   \n",
       "2019-06-05   NYA  12607.349610  12618.219730  12530.150390  12614.700200   \n",
       "2019-06-06   NYA  12631.089840  12710.669920  12606.120120  12675.660160   \n",
       "2019-06-07   NYA  12725.379880  12814.809570  12725.379880  12765.860350   \n",
       "...          ...           ...           ...           ...           ...   \n",
       "2019-06-24  N100   1071.739990   1075.569946   1067.920044   1069.329956   \n",
       "2019-06-25  N100   1064.829956   1068.750000   1064.829956   1066.729980   \n",
       "2019-06-26  N100   1064.439941   1069.709961   1062.959961   1063.819946   \n",
       "2019-06-27  N100   1064.910034   1065.780029   1057.010010   1062.380005   \n",
       "2019-06-28  N100   1062.119995   1072.229980   1061.969971   1071.439941   \n",
       "\n",
       "               Adj Close        Volume  \n",
       "Date                                    \n",
       "2019-06-03  12341.820310  3.966700e+09  \n",
       "2019-06-04  12560.580080  3.810430e+09  \n",
       "2019-06-05  12614.700200  3.548830e+09  \n",
       "2019-06-06  12675.660160  3.396410e+09  \n",
       "2019-06-07  12765.860350  3.220250e+09  \n",
       "...                  ...           ...  \n",
       "2019-06-24   1069.329956  1.659836e+08  \n",
       "2019-06-25   1066.729980  1.628686e+08  \n",
       "2019-06-26   1063.819946  1.747766e+08  \n",
       "2019-06-27   1062.380005  1.698720e+08  \n",
       "2019-06-28   1071.439941  1.823296e+08  \n",
       "\n",
       "[271 rows x 7 columns]"
      ]
     },
     "execution_count": 7,
     "metadata": {},
     "output_type": "execute_result"
    }
   ],
   "source": [
    "# 2019년 6월의 데이터만 추출하자\n",
    "# Date를 Index로 설정하면 날짜와 관련된 다양한 작업을 쉽게 할 수 있다. \n",
    "df.set_index('Date',inplace=True)\n",
    "df.loc['2019-06'] # Index가 2019-06으로 시작되는 모든 행을 추출한다. "
   ]
  },
  {
   "cell_type": "code",
   "execution_count": 38,
   "id": "a0cfb0b5-367e-4123-baca-b1836ac46aa5",
   "metadata": {
    "tags": []
   },
   "outputs": [
    {
     "name": "stdout",
     "output_type": "stream",
     "text": [
      "<class 'pandas.core.frame.DataFrame'>\n",
      "DatetimeIndex: 13948 entries, 1965-12-31 to 2021-05-28\n",
      "Data columns (total 7 columns):\n",
      " #   Column     Non-Null Count  Dtype  \n",
      "---  ------     --------------  -----  \n",
      " 0   Index      13948 non-null  object \n",
      " 1   Open       13947 non-null  float64\n",
      " 2   High       13947 non-null  float64\n",
      " 3   Low        13947 non-null  float64\n",
      " 4   Close      13947 non-null  float64\n",
      " 5   Adj Close  13947 non-null  float64\n",
      " 6   Volume     13947 non-null  float64\n",
      "dtypes: float64(6), object(1)\n",
      "memory usage: 871.8+ KB\n"
     ]
    }
   ],
   "source": [
    "# NYA 인덱스 값 추출\n",
    "NYA_df=df.loc[df.Index=='NYA'] \n",
    "NYA_df.info()"
   ]
  },
  {
   "cell_type": "code",
   "execution_count": 39,
   "id": "5c1e85b7-76eb-49cd-a874-45e0b2bb62c5",
   "metadata": {
    "tags": []
   },
   "outputs": [
    {
     "data": {
      "text/plain": [
       "<Axes: xlabel='Date'>"
      ]
     },
     "execution_count": 39,
     "metadata": {},
     "output_type": "execute_result"
    },
    {
     "data": {
      "image/png": "[encoded data removed]",
      "text/plain": [
       "<Figure size 640x480 with 1 Axes>"
      ]
     },
     "metadata": {},
     "output_type": "display_data"
    }
   ],
   "source": [
    "# 2019년 6월의 Adj Close 칼럼의 데이터를 그래프로 그리기\n",
    "NYA_df.loc['2019-06':'2020-05','Adj Close'].plot()"
   ]
  },
  {
   "cell_type": "code",
   "execution_count": 40,
   "id": "b39c927d-321b-4358-9aaf-288b63a40cc7",
   "metadata": {
    "tags": []
   },
   "outputs": [
    {
     "data": {
      "text/plain": [
       "Date\n",
       "2020-05-15    10947.32031\n",
       "2020-05-18    11402.23047\n",
       "2020-05-19    11248.96973\n",
       "2020-05-20    11420.04004\n",
       "2020-05-21    11351.59961\n",
       "2020-05-22    11331.96973\n",
       "2020-05-26    11603.00000\n",
       "2020-05-27    11837.53027\n",
       "2020-05-28    11804.91016\n",
       "2020-05-29    11802.95020\n",
       "Name: Adj Close, dtype: float64"
      ]
     },
     "execution_count": 40,
     "metadata": {},
     "output_type": "execute_result"
    }
   ],
   "source": [
    "NYA_df.loc['2019-06':'2020-05','Adj Close'].tail(10)"
   ]
  },
  {
   "cell_type": "markdown",
   "id": "9b9b1694-53f2-4d43-b3a1-a1886a4dbf2a",
   "metadata": {},
   "source": [
    "# 첫날의 종가가 P1, 다음날의 종가가 P2라고 할 때, 연속복리수익율은 자연로그  log(P2)-log(P1)과 같이 정의된다 . 앞 문제의 NYA_df의 ‘Adj Close’ 칼럼의 자료를 바탕으로 연속복리수이율 칼럼 ‘Return’을 작성해 보아라. "
   ]
  },
  {
   "cell_type": "code",
   "execution_count": 45,
   "id": "0bc25def-e8d1-4cbb-9c18-b3dd4cde6594",
   "metadata": {},
   "outputs": [
    {
     "name": "stderr",
     "output_type": "stream",
     "text": [
      "C:\\Users\\hst00\\AppData\\Local\\Temp\\ipykernel_6300\\193346024.py:2: SettingWithCopyWarning: \n",
      "A value is trying to be set on a copy of a slice from a DataFrame.\n",
      "Try using .loc[row_indexer,col_indexer] = value instead\n",
      "\n",
      "See the caveats in the documentation: https://pandas.pydata.org/pandas-docs/stable/user_guide/indexing.html#returning-a-view-versus-a-copy\n",
      "  NYA_df['Return']=np.log(NYA_df['Adj Close'])-np.log(NYA_df['Adj Close'].shift(1))\n"
     ]
    },
    {
     "data": {
      "text/html": [
       "<div>\n",
       "<style scoped>\n",
       "    .dataframe tbody tr th:only-of-type {\n",
       "        vertical-align: middle;\n",
       "    }\n",
       "\n",
       "    .dataframe tbody tr th {\n",
       "        vertical-align: top;\n",
       "    }\n",
       "\n",
       "    .dataframe thead th {\n",
       "        text-align: right;\n",
       "    }\n",
       "</style>\n",
       "<table border=\"1\" class=\"dataframe\">\n",
       "  <thead>\n",
       "    <tr style=\"text-align: right;\">\n",
       "      <th></th>\n",
       "      <th>Index</th>\n",
       "      <th>Open</th>\n",
       "      <th>High</th>\n",
       "      <th>Low</th>\n",
       "      <th>Close</th>\n",
       "      <th>Adj Close</th>\n",
       "      <th>Volume</th>\n",
       "      <th>Return</th>\n",
       "    </tr>\n",
       "    <tr>\n",
       "      <th>Date</th>\n",
       "      <th></th>\n",
       "      <th></th>\n",
       "      <th></th>\n",
       "      <th></th>\n",
       "      <th></th>\n",
       "      <th></th>\n",
       "      <th></th>\n",
       "      <th></th>\n",
       "    </tr>\n",
       "  </thead>\n",
       "  <tbody>\n",
       "    <tr>\n",
       "      <th>1965-12-31</th>\n",
       "      <td>NYA</td>\n",
       "      <td>528.690002</td>\n",
       "      <td>528.690002</td>\n",
       "      <td>528.690002</td>\n",
       "      <td>528.690002</td>\n",
       "      <td>528.690002</td>\n",
       "      <td>0.0</td>\n",
       "      <td>NaN</td>\n",
       "    </tr>\n",
       "    <tr>\n",
       "      <th>1966-01-03</th>\n",
       "      <td>NYA</td>\n",
       "      <td>527.210022</td>\n",
       "      <td>527.210022</td>\n",
       "      <td>527.210022</td>\n",
       "      <td>527.210022</td>\n",
       "      <td>527.210022</td>\n",
       "      <td>0.0</td>\n",
       "      <td>-0.002803</td>\n",
       "    </tr>\n",
       "    <tr>\n",
       "      <th>1966-01-04</th>\n",
       "      <td>NYA</td>\n",
       "      <td>527.840027</td>\n",
       "      <td>527.840027</td>\n",
       "      <td>527.840027</td>\n",
       "      <td>527.840027</td>\n",
       "      <td>527.840027</td>\n",
       "      <td>0.0</td>\n",
       "      <td>0.001194</td>\n",
       "    </tr>\n",
       "    <tr>\n",
       "      <th>1966-01-05</th>\n",
       "      <td>NYA</td>\n",
       "      <td>531.119995</td>\n",
       "      <td>531.119995</td>\n",
       "      <td>531.119995</td>\n",
       "      <td>531.119995</td>\n",
       "      <td>531.119995</td>\n",
       "      <td>0.0</td>\n",
       "      <td>0.006195</td>\n",
       "    </tr>\n",
       "    <tr>\n",
       "      <th>1966-01-06</th>\n",
       "      <td>NYA</td>\n",
       "      <td>532.070007</td>\n",
       "      <td>532.070007</td>\n",
       "      <td>532.070007</td>\n",
       "      <td>532.070007</td>\n",
       "      <td>532.070007</td>\n",
       "      <td>0.0</td>\n",
       "      <td>0.001787</td>\n",
       "    </tr>\n",
       "  </tbody>\n",
       "</table>\n",
       "</div>"
      ],
      "text/plain": [
       "           Index        Open        High         Low       Close   Adj Close  \\\n",
       "Date                                                                           \n",
       "1965-12-31   NYA  528.690002  528.690002  528.690002  528.690002  528.690002   \n",
       "1966-01-03   NYA  527.210022  527.210022  527.210022  527.210022  527.210022   \n",
       "1966-01-04   NYA  527.840027  527.840027  527.840027  527.840027  527.840027   \n",
       "1966-01-05   NYA  531.119995  531.119995  531.119995  531.119995  531.119995   \n",
       "1966-01-06   NYA  532.070007  532.070007  532.070007  532.070007  532.070007   \n",
       "\n",
       "            Volume    Return  \n",
       "Date                          \n",
       "1965-12-31     0.0       NaN  \n",
       "1966-01-03     0.0 -0.002803  \n",
       "1966-01-04     0.0  0.001194  \n",
       "1966-01-05     0.0  0.006195  \n",
       "1966-01-06     0.0  0.001787  "
      ]
     },
     "execution_count": 45,
     "metadata": {},
     "output_type": "execute_result"
    }
   ],
   "source": [
    "import numpy as np\n",
    "NYA_df['Return']=np.log(NYA_df['Adj Close'])-np.log(NYA_df['Adj Close'].shift(1))\n",
    "NYA_df.head(5)"
   ]
  },
  {
   "cell_type": "code",
   "execution_count": 46,
   "id": "f3687bc3-f6e9-4fea-b511-02e1cdad523b",
   "metadata": {},
   "outputs": [],
   "source": [
    "import xlwings as xw\n",
    "xw.view(NYA_df)"
   ]
  },
  {
   "cell_type": "code",
   "execution_count": 2,
   "id": "2f0e3dff-d596-48eb-8e4a-1530f355d2a6",
   "metadata": {
    "tags": []
   },
   "outputs": [
    {
     "data": {
      "text/latex": [
       "$\\displaystyle e$"
      ],
      "text/plain": [
       "E"
      ]
     },
     "execution_count": 2,
     "metadata": {},
     "output_type": "execute_result"
    }
   ],
   "source": [
    "# 자연상수 유도하기\n",
    "from sympy import limit,symbols,oo\n",
    "n=symbols('n',integer=True) # n을 정수 기호로 선정\n",
    "limit((1+1/n)**n,n,oo)"
   ]
  },
  {
   "cell_type": "code",
   "execution_count": 3,
   "id": "22b065af-0571-4d5f-9248-651df9566124",
   "metadata": {
    "tags": []
   },
   "outputs": [
    {
     "data": {
      "text/latex": [
       "$\\displaystyle 2.71828182845905$"
      ],
      "text/plain": [
       "2.71828182845905"
      ]
     },
     "execution_count": 3,
     "metadata": {},
     "output_type": "execute_result"
    }
   ],
   "source": [
    "_.evalf()"
   ]
  },
  {
   "cell_type": "code",
   "execution_count": 41,
   "id": "eb2a0ebf-0139-4241-85d9-7dcb5ed8551f",
   "metadata": {},
   "outputs": [
    {
     "data": {
      "text/plain": [
       "1.0"
      ]
     },
     "execution_count": 41,
     "metadata": {},
     "output_type": "execute_result"
    }
   ],
   "source": [
    "# 자연로그 사용하기\n",
    "import numpy as np\n",
    "# 지연로그 함수 log()사용하기\n",
    "np.log(np.exp(1)) # exp(1)=e이다"
   ]
  },
  {
   "cell_type": "code",
   "execution_count": 48,
   "id": "5b35b4e9-74d2-4309-9f27-655be22a7e63",
   "metadata": {},
   "outputs": [
    {
     "data": {
      "text/html": [
       "<div>\n",
       "<style scoped>\n",
       "    .dataframe tbody tr th:only-of-type {\n",
       "        vertical-align: middle;\n",
       "    }\n",
       "\n",
       "    .dataframe tbody tr th {\n",
       "        vertical-align: top;\n",
       "    }\n",
       "\n",
       "    .dataframe thead th {\n",
       "        text-align: right;\n",
       "    }\n",
       "</style>\n",
       "<table border=\"1\" class=\"dataframe\">\n",
       "  <thead>\n",
       "    <tr style=\"text-align: right;\">\n",
       "      <th></th>\n",
       "      <th>Adj Close</th>\n",
       "      <th>lag_1</th>\n",
       "    </tr>\n",
       "    <tr>\n",
       "      <th>Date</th>\n",
       "      <th></th>\n",
       "      <th></th>\n",
       "    </tr>\n",
       "  </thead>\n",
       "  <tbody>\n",
       "    <tr>\n",
       "      <th>1965-12-31</th>\n",
       "      <td>528.690002</td>\n",
       "      <td>NaN</td>\n",
       "    </tr>\n",
       "    <tr>\n",
       "      <th>1966-01-03</th>\n",
       "      <td>527.210022</td>\n",
       "      <td>528.690002</td>\n",
       "    </tr>\n",
       "    <tr>\n",
       "      <th>1966-01-04</th>\n",
       "      <td>527.840027</td>\n",
       "      <td>527.210022</td>\n",
       "    </tr>\n",
       "    <tr>\n",
       "      <th>1966-01-05</th>\n",
       "      <td>531.119995</td>\n",
       "      <td>527.840027</td>\n",
       "    </tr>\n",
       "    <tr>\n",
       "      <th>1966-01-06</th>\n",
       "      <td>532.070007</td>\n",
       "      <td>531.119995</td>\n",
       "    </tr>\n",
       "  </tbody>\n",
       "</table>\n",
       "</div>"
      ],
      "text/plain": [
       "             Adj Close       lag_1\n",
       "Date                              \n",
       "1965-12-31  528.690002         NaN\n",
       "1966-01-03  527.210022  528.690002\n",
       "1966-01-04  527.840027  527.210022\n",
       "1966-01-05  531.119995  527.840027\n",
       "1966-01-06  532.070007  531.119995"
      ]
     },
     "execution_count": 48,
     "metadata": {},
     "output_type": "execute_result"
    }
   ],
   "source": [
    "# shift() 살펴보기\n",
    "Test_df=NYA_df[[\"Adj Close\"]].head(5) # 특정 칼럼의 자료의 앞 5개 추출\n",
    "Test_df['lag_1']=Test_df['Adj Close'].shift(1) # 1개씩 밀려쓰게됨\n",
    "Test_df"
   ]
  },
  {
   "cell_type": "code",
   "execution_count": 53,
   "id": "7650c9e3-4c5e-4cba-bbd0-e03d46fe3715",
   "metadata": {},
   "outputs": [
    {
     "data": {
      "text/html": [
       "<div>\n",
       "<style scoped>\n",
       "    .dataframe tbody tr th:only-of-type {\n",
       "        vertical-align: middle;\n",
       "    }\n",
       "\n",
       "    .dataframe tbody tr th {\n",
       "        vertical-align: top;\n",
       "    }\n",
       "\n",
       "    .dataframe thead th {\n",
       "        text-align: right;\n",
       "    }\n",
       "</style>\n",
       "<table border=\"1\" class=\"dataframe\">\n",
       "  <thead>\n",
       "    <tr style=\"text-align: right;\">\n",
       "      <th></th>\n",
       "      <th>Price</th>\n",
       "      <th>lag_1</th>\n",
       "      <th>lag_2</th>\n",
       "      <th>lag_-1</th>\n",
       "    </tr>\n",
       "    <tr>\n",
       "      <th>Date</th>\n",
       "      <th></th>\n",
       "      <th></th>\n",
       "      <th></th>\n",
       "      <th></th>\n",
       "    </tr>\n",
       "  </thead>\n",
       "  <tbody>\n",
       "    <tr>\n",
       "      <th>1965-12-31</th>\n",
       "      <td>528.690002</td>\n",
       "      <td>NaN</td>\n",
       "      <td>NaN</td>\n",
       "      <td>527.210022</td>\n",
       "    </tr>\n",
       "    <tr>\n",
       "      <th>1966-01-03</th>\n",
       "      <td>527.210022</td>\n",
       "      <td>528.690002</td>\n",
       "      <td>NaN</td>\n",
       "      <td>527.840027</td>\n",
       "    </tr>\n",
       "    <tr>\n",
       "      <th>1966-01-04</th>\n",
       "      <td>527.840027</td>\n",
       "      <td>527.210022</td>\n",
       "      <td>528.690002</td>\n",
       "      <td>531.119995</td>\n",
       "    </tr>\n",
       "    <tr>\n",
       "      <th>1966-01-05</th>\n",
       "      <td>531.119995</td>\n",
       "      <td>527.840027</td>\n",
       "      <td>527.210022</td>\n",
       "      <td>532.070007</td>\n",
       "    </tr>\n",
       "    <tr>\n",
       "      <th>1966-01-06</th>\n",
       "      <td>532.070007</td>\n",
       "      <td>531.119995</td>\n",
       "      <td>527.840027</td>\n",
       "      <td>NaN</td>\n",
       "    </tr>\n",
       "  </tbody>\n",
       "</table>\n",
       "</div>"
      ],
      "text/plain": [
       "                 Price       lag_1       lag_2      lag_-1\n",
       "Date                                                      \n",
       "1965-12-31  528.690002         NaN         NaN  527.210022\n",
       "1966-01-03  527.210022  528.690002         NaN  527.840027\n",
       "1966-01-04  527.840027  527.210022  528.690002  531.119995\n",
       "1966-01-05  531.119995  527.840027  527.210022  532.070007\n",
       "1966-01-06  532.070007  531.119995  527.840027         NaN"
      ]
     },
     "execution_count": 53,
     "metadata": {},
     "output_type": "execute_result"
    }
   ],
   "source": [
    "# shift() 살펴보기\n",
    "D=NYA_df[\"Adj Close\"].head(5) # 특정 칼럼의 자료의 앞 5개 추출\n",
    "Test_df=pd.DataFrame(data={'Price':D}) # 데이터프레임으로 구축\n",
    "Test_df['lag_1']=Test_df.Price.shift(1) # 1개씩 밀려쓰게됨\n",
    "Test_df['lag_2']=Test_df.Price.shift(2) # 2개씩 밀려쓰게됨\n",
    "Test_df['lag_-1']=Test_df.Price.shift(-1) # 1개씩 당겨 쓰게됨\n",
    "Test_df"
   ]
  },
  {
   "cell_type": "code",
   "execution_count": 56,
   "id": "e3989329-289d-4898-b850-7a7a10bf7919",
   "metadata": {},
   "outputs": [
    {
     "data": {
      "text/html": [
       "<div>\n",
       "<style scoped>\n",
       "    .dataframe tbody tr th:only-of-type {\n",
       "        vertical-align: middle;\n",
       "    }\n",
       "\n",
       "    .dataframe tbody tr th {\n",
       "        vertical-align: top;\n",
       "    }\n",
       "\n",
       "    .dataframe thead th {\n",
       "        text-align: right;\n",
       "    }\n",
       "</style>\n",
       "<table border=\"1\" class=\"dataframe\">\n",
       "  <thead>\n",
       "    <tr style=\"text-align: right;\">\n",
       "      <th></th>\n",
       "      <th>Price</th>\n",
       "      <th>lag_1</th>\n",
       "      <th>lag_2</th>\n",
       "      <th>lag_-1</th>\n",
       "      <th>MA</th>\n",
       "    </tr>\n",
       "    <tr>\n",
       "      <th>Date</th>\n",
       "      <th></th>\n",
       "      <th></th>\n",
       "      <th></th>\n",
       "      <th></th>\n",
       "      <th></th>\n",
       "    </tr>\n",
       "  </thead>\n",
       "  <tbody>\n",
       "    <tr>\n",
       "      <th>1965-12-31</th>\n",
       "      <td>528.690002</td>\n",
       "      <td>NaN</td>\n",
       "      <td>NaN</td>\n",
       "      <td>527.210022</td>\n",
       "      <td>NaN</td>\n",
       "    </tr>\n",
       "    <tr>\n",
       "      <th>1966-01-03</th>\n",
       "      <td>527.210022</td>\n",
       "      <td>528.690002</td>\n",
       "      <td>NaN</td>\n",
       "      <td>527.840027</td>\n",
       "      <td>NaN</td>\n",
       "    </tr>\n",
       "    <tr>\n",
       "      <th>1966-01-04</th>\n",
       "      <td>527.840027</td>\n",
       "      <td>527.210022</td>\n",
       "      <td>528.690002</td>\n",
       "      <td>531.119995</td>\n",
       "      <td>527.913350</td>\n",
       "    </tr>\n",
       "    <tr>\n",
       "      <th>1966-01-05</th>\n",
       "      <td>531.119995</td>\n",
       "      <td>527.840027</td>\n",
       "      <td>527.210022</td>\n",
       "      <td>532.070007</td>\n",
       "      <td>528.723348</td>\n",
       "    </tr>\n",
       "    <tr>\n",
       "      <th>1966-01-06</th>\n",
       "      <td>532.070007</td>\n",
       "      <td>531.119995</td>\n",
       "      <td>527.840027</td>\n",
       "      <td>NaN</td>\n",
       "      <td>530.343343</td>\n",
       "    </tr>\n",
       "  </tbody>\n",
       "</table>\n",
       "</div>"
      ],
      "text/plain": [
       "                 Price       lag_1       lag_2      lag_-1          MA\n",
       "Date                                                                  \n",
       "1965-12-31  528.690002         NaN         NaN  527.210022         NaN\n",
       "1966-01-03  527.210022  528.690002         NaN  527.840027         NaN\n",
       "1966-01-04  527.840027  527.210022  528.690002  531.119995  527.913350\n",
       "1966-01-05  531.119995  527.840027  527.210022  532.070007  528.723348\n",
       "1966-01-06  532.070007  531.119995  527.840027         NaN  530.343343"
      ]
     },
     "execution_count": 56,
     "metadata": {},
     "output_type": "execute_result"
    }
   ],
   "source": [
    "# 이동평균(Moving Average) 구하기\n",
    "Test_df['MA']=Test_df.Price.rolling(3).mean() # 3개씩 이동평균을 만든다.\n",
    "Test_df.head(10) # 앞 10개 데이터추출"
   ]
  },
  {
   "cell_type": "markdown",
   "id": "bb8b19c4-4370-46ab-8e55-b560725b6255",
   "metadata": {},
   "source": [
    "# NYA_df에서 매달 말일의 데이터 항만을 추출하여라. "
   ]
  },
  {
   "cell_type": "code",
   "execution_count": 49,
   "id": "a876b4a4-57fb-4536-9a62-eede81ec7832",
   "metadata": {},
   "outputs": [
    {
     "data": {
      "text/html": [
       "<div>\n",
       "<style scoped>\n",
       "    .dataframe tbody tr th:only-of-type {\n",
       "        vertical-align: middle;\n",
       "    }\n",
       "\n",
       "    .dataframe tbody tr th {\n",
       "        vertical-align: top;\n",
       "    }\n",
       "\n",
       "    .dataframe thead th {\n",
       "        text-align: right;\n",
       "    }\n",
       "</style>\n",
       "<table border=\"1\" class=\"dataframe\">\n",
       "  <thead>\n",
       "    <tr style=\"text-align: right;\">\n",
       "      <th></th>\n",
       "      <th>Index</th>\n",
       "      <th>Open</th>\n",
       "      <th>High</th>\n",
       "      <th>Low</th>\n",
       "      <th>Close</th>\n",
       "      <th>Adj Close</th>\n",
       "      <th>Volume</th>\n",
       "      <th>Return</th>\n",
       "    </tr>\n",
       "    <tr>\n",
       "      <th>Date</th>\n",
       "      <th></th>\n",
       "      <th></th>\n",
       "      <th></th>\n",
       "      <th></th>\n",
       "      <th></th>\n",
       "      <th></th>\n",
       "      <th></th>\n",
       "      <th></th>\n",
       "    </tr>\n",
       "  </thead>\n",
       "  <tbody>\n",
       "    <tr>\n",
       "      <th>1965-12-31</th>\n",
       "      <td>NYA</td>\n",
       "      <td>528.690002</td>\n",
       "      <td>528.690002</td>\n",
       "      <td>528.690002</td>\n",
       "      <td>528.690002</td>\n",
       "      <td>528.690002</td>\n",
       "      <td>0.0</td>\n",
       "      <td>NaN</td>\n",
       "    </tr>\n",
       "    <tr>\n",
       "      <th>1966-01-31</th>\n",
       "      <td>NYA</td>\n",
       "      <td>533.340027</td>\n",
       "      <td>533.340027</td>\n",
       "      <td>533.340027</td>\n",
       "      <td>533.340027</td>\n",
       "      <td>533.340027</td>\n",
       "      <td>0.0</td>\n",
       "      <td>-0.004359</td>\n",
       "    </tr>\n",
       "    <tr>\n",
       "      <th>1966-02-28</th>\n",
       "      <td>NYA</td>\n",
       "      <td>524.559998</td>\n",
       "      <td>524.559998</td>\n",
       "      <td>524.559998</td>\n",
       "      <td>524.559998</td>\n",
       "      <td>524.559998</td>\n",
       "      <td>0.0</td>\n",
       "      <td>0.001202</td>\n",
       "    </tr>\n",
       "    <tr>\n",
       "      <th>1966-03-31</th>\n",
       "      <td>NYA</td>\n",
       "      <td>511.450012</td>\n",
       "      <td>511.450012</td>\n",
       "      <td>511.450012</td>\n",
       "      <td>511.450012</td>\n",
       "      <td>511.450012</td>\n",
       "      <td>0.0</td>\n",
       "      <td>0.005588</td>\n",
       "    </tr>\n",
       "    <tr>\n",
       "      <th>1966-04-30</th>\n",
       "      <td>NYA</td>\n",
       "      <td>521.179993</td>\n",
       "      <td>521.179993</td>\n",
       "      <td>521.179993</td>\n",
       "      <td>521.179993</td>\n",
       "      <td>521.179993</td>\n",
       "      <td>0.0</td>\n",
       "      <td>0.000000</td>\n",
       "    </tr>\n",
       "  </tbody>\n",
       "</table>\n",
       "</div>"
      ],
      "text/plain": [
       "           Index        Open        High         Low       Close   Adj Close  \\\n",
       "Date                                                                           \n",
       "1965-12-31   NYA  528.690002  528.690002  528.690002  528.690002  528.690002   \n",
       "1966-01-31   NYA  533.340027  533.340027  533.340027  533.340027  533.340027   \n",
       "1966-02-28   NYA  524.559998  524.559998  524.559998  524.559998  524.559998   \n",
       "1966-03-31   NYA  511.450012  511.450012  511.450012  511.450012  511.450012   \n",
       "1966-04-30   NYA  521.179993  521.179993  521.179993  521.179993  521.179993   \n",
       "\n",
       "            Volume    Return  \n",
       "Date                          \n",
       "1965-12-31     0.0       NaN  \n",
       "1966-01-31     0.0 -0.004359  \n",
       "1966-02-28     0.0  0.001202  \n",
       "1966-03-31     0.0  0.005588  \n",
       "1966-04-30     0.0  0.000000  "
      ]
     },
     "execution_count": 49,
     "metadata": {},
     "output_type": "execute_result"
    }
   ],
   "source": [
    "df_new=NYA_df.resample('M').last()\n",
    "df_new.head(5)"
   ]
  },
  {
   "cell_type": "markdown",
   "id": "112cb1e7-15a3-40ef-a3f2-9352987b4f9a",
   "metadata": {},
   "source": [
    "# NYA_df의 ‘Adj Close’를 대상으로 분기별 시작값(open), 최고값(high), 최저값(low), 마지막값(close) 칼럼을 만들어 보아라. "
   ]
  },
  {
   "cell_type": "code",
   "execution_count": 50,
   "id": "3041f4c7-b84d-4beb-91da-e330b4c6f664",
   "metadata": {},
   "outputs": [],
   "source": [
    "NYA_ohlc=NYA_df['Adj Close'].resample('Q').ohlc()"
   ]
  },
  {
   "cell_type": "code",
   "execution_count": 51,
   "id": "647bc779-98ec-4eda-aba8-3b9cd99fd734",
   "metadata": {},
   "outputs": [
    {
     "data": {
      "text/html": [
       "<div>\n",
       "<style scoped>\n",
       "    .dataframe tbody tr th:only-of-type {\n",
       "        vertical-align: middle;\n",
       "    }\n",
       "\n",
       "    .dataframe tbody tr th {\n",
       "        vertical-align: top;\n",
       "    }\n",
       "\n",
       "    .dataframe thead th {\n",
       "        text-align: right;\n",
       "    }\n",
       "</style>\n",
       "<table border=\"1\" class=\"dataframe\">\n",
       "  <thead>\n",
       "    <tr style=\"text-align: right;\">\n",
       "      <th></th>\n",
       "      <th>open</th>\n",
       "      <th>high</th>\n",
       "      <th>low</th>\n",
       "      <th>close</th>\n",
       "    </tr>\n",
       "    <tr>\n",
       "      <th>Date</th>\n",
       "      <th></th>\n",
       "      <th></th>\n",
       "      <th></th>\n",
       "      <th></th>\n",
       "    </tr>\n",
       "  </thead>\n",
       "  <tbody>\n",
       "    <tr>\n",
       "      <th>1965-12-31</th>\n",
       "      <td>528.690002</td>\n",
       "      <td>528.690002</td>\n",
       "      <td>528.690002</td>\n",
       "      <td>528.690002</td>\n",
       "    </tr>\n",
       "    <tr>\n",
       "      <th>1966-03-31</th>\n",
       "      <td>527.210022</td>\n",
       "      <td>539.890015</td>\n",
       "      <td>501.510010</td>\n",
       "      <td>511.450012</td>\n",
       "    </tr>\n",
       "    <tr>\n",
       "      <th>1966-06-30</th>\n",
       "      <td>515.580017</td>\n",
       "      <td>529.109985</td>\n",
       "      <td>476.450012</td>\n",
       "      <td>485.440002</td>\n",
       "    </tr>\n",
       "    <tr>\n",
       "      <th>1966-09-30</th>\n",
       "      <td>490.200012</td>\n",
       "      <td>500.559998</td>\n",
       "      <td>426.329987</td>\n",
       "      <td>436.700012</td>\n",
       "    </tr>\n",
       "    <tr>\n",
       "      <th>1966-12-31</th>\n",
       "      <td>427.390015</td>\n",
       "      <td>475.079987</td>\n",
       "      <td>416.290009</td>\n",
       "      <td>462.279999</td>\n",
       "    </tr>\n",
       "  </tbody>\n",
       "</table>\n",
       "</div>"
      ],
      "text/plain": [
       "                  open        high         low       close\n",
       "Date                                                      \n",
       "1965-12-31  528.690002  528.690002  528.690002  528.690002\n",
       "1966-03-31  527.210022  539.890015  501.510010  511.450012\n",
       "1966-06-30  515.580017  529.109985  476.450012  485.440002\n",
       "1966-09-30  490.200012  500.559998  426.329987  436.700012\n",
       "1966-12-31  427.390015  475.079987  416.290009  462.279999"
      ]
     },
     "execution_count": 51,
     "metadata": {},
     "output_type": "execute_result"
    }
   ],
   "source": [
    "NYA_ohlc.head(5)"
   ]
  },
  {
   "cell_type": "code",
   "execution_count": null,
   "id": "652a732d-ab99-456c-9284-eba74c58bea0",
   "metadata": {},
   "outputs": [],
   "source": []
  }
 ],
 "metadata": {
  "kernelspec": {
   "display_name": "Python 3 (ipykernel)",
   "language": "python",
   "name": "python3"
  },
  "language_info": {
   "codemirror_mode": {
    "name": "ipython",
    "version": 3
   },
   "file_extension": ".py",
   "mimetype": "text/x-python",
   "name": "python",
   "nbconvert_exporter": "python",
   "pygments_lexer": "ipython3",
   "version": "3.10.12"
  },
  "widgets": {
   "application/vnd.jupyter.widget-state+json": {
    "state": {},
    "version_major": 2,
    "version_minor": 0
   }
  }
 },
 "nbformat": 4,
 "nbformat_minor": 5
}
